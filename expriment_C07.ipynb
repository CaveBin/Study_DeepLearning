{
 "cells": [
  {
   "cell_type": "markdown",
   "metadata": {},
   "source": [
    "# 深入Keras"
   ]
  },
  {
   "cell_type": "markdown",
   "metadata": {},
   "source": [
    "## 7.1 Keras工作流程\r\n",
    "`渐进式呈现复杂性(progressive disclosure of complexity)`"
   ]
  },
  {
   "cell_type": "markdown",
   "metadata": {},
   "source": [
    "## 7.2 构建Keras模型的不同方法\r\n",
    "* 序贯模型 `sequential model`\r\n",
    "* 函数式API `function API`\r\n",
    "* 模型子类化 `model subclassing`"
   ]
  },
  {
   "cell_type": "markdown",
   "metadata": {},
   "source": [
    "### 7.2.1 序贯模型"
   ]
  },
  {
   "cell_type": "markdown",
   "metadata": {},
   "source": [
    "#### [C] 7.1 Sequential 类"
   ]
  },
  {
   "cell_type": "code",
   "execution_count": 1,
   "metadata": {},
   "outputs": [],
   "source": [
    "from tensorflow import keras\r\n",
    "from tensorflow.keras import layers\r\n",
    "\r\n",
    "model = keras.Sequential([\r\n",
    "    layers.Dense(64, activation='relu'),\r\n",
    "    layers.Dense(10, activation='softmax')\r\n",
    "])"
   ]
  },
  {
   "cell_type": "markdown",
   "metadata": {},
   "source": [
    "#### [C] 7.2 逐步构建序贯模型"
   ]
  },
  {
   "cell_type": "code",
   "execution_count": 2,
   "metadata": {},
   "outputs": [],
   "source": [
    "model = keras.Sequential()\r\n",
    "model.add(layers.Dense(64, activation='relu'))\r\n",
    "model.add(layers.Dense(10, activation='softmax'))"
   ]
  },
  {
   "cell_type": "markdown",
   "metadata": {},
   "source": [
    "#### [C] 7.3 尚未完成构建的模型没有权重"
   ]
  },
  {
   "cell_type": "markdown",
   "metadata": {},
   "source": [
    "``\r\n",
    "model.weights\r\n",
    "``\r\n",
    "\r\n",
    "*ValueError: Weights for model 'sequential_1' have not yet been created. Weights are created when the model is first called on inputs or `build()` is called with an `input_shape`"
   ]
  },
  {
   "cell_type": "markdown",
   "metadata": {},
   "source": [
    "#### [C] 7.4 通过第一次调用模型来完成构建"
   ]
  },
  {
   "cell_type": "code",
   "execution_count": 3,
   "metadata": {},
   "outputs": [
    {
     "data": {
      "text/plain": "[<tf.Variable 'dense_2/kernel:0' shape=(3, 64) dtype=float32, numpy=\n array([[-0.0683395 ,  0.09431973, -0.01083946, -0.01685584, -0.16318913,\n          0.04949835, -0.22794226,  0.02725279,  0.04801682, -0.07146323,\n          0.22102702, -0.2736076 , -0.00555462,  0.2607662 , -0.19325593,\n         -0.2398926 , -0.03134042,  0.20117897,  0.05460811,  0.26351243,\n         -0.13517919,  0.05498731,  0.13584393, -0.06632799,  0.25446504,\n         -0.19727021,  0.1544759 ,  0.26660496, -0.13026564,  0.22368747,\n          0.00626004, -0.10000463,  0.11719245,  0.13005725,  0.06577575,\n         -0.00786462,  0.04131159,  0.2933476 ,  0.00174603, -0.20302817,\n          0.02733961,  0.04437667,  0.16065836,  0.10372838, -0.15939094,\n         -0.03924772, -0.14549531,  0.14332443,  0.26592124, -0.13606076,\n          0.19773626, -0.08141227,  0.10468501,  0.11298743, -0.21895513,\n         -0.11478516, -0.12029198, -0.08872224,  0.23936957, -0.09413466,\n          0.05800626,  0.12656814, -0.17604929,  0.18923834],\n        [-0.2470359 ,  0.2460621 , -0.29216865, -0.28111595,  0.26384318,\n         -0.06645863, -0.22286132, -0.23791642,  0.16180083, -0.21362197,\n         -0.29600665, -0.15370755,  0.13068801, -0.17086832,  0.00298682,\n         -0.20589098, -0.00723904, -0.03981757, -0.03352222, -0.17198569,\n         -0.19339755,  0.00084388, -0.03512985, -0.24018876, -0.12731221,\n          0.2776509 , -0.23111752, -0.14707923,  0.10467851,  0.01689529,\n          0.1256578 , -0.1965006 , -0.09068345,  0.14930013,  0.2157318 ,\n         -0.20594907, -0.20122594,  0.01247182,  0.04557502, -0.0451926 ,\n         -0.2957717 , -0.24372089,  0.27895808,  0.11242229, -0.26083678,\n          0.0843879 ,  0.07473665,  0.29138452,  0.24410075,  0.26764625,\n          0.08804145, -0.05467774, -0.27627203,  0.25948882, -0.02649942,\n         -0.10781075,  0.10313714,  0.10785884,  0.19467133, -0.09737091,\n          0.00785351, -0.08214915, -0.19660568, -0.19598618],\n        [ 0.18597928,  0.07478324,  0.04374126, -0.11385845,  0.13977063,\n          0.22465295,  0.2976274 , -0.21477446, -0.258643  , -0.12113523,\n         -0.2766216 , -0.24290767, -0.28880468,  0.20951188, -0.24836968,\n         -0.05427878, -0.29444507,  0.16366842, -0.11697404, -0.15503761,\n         -0.12714854, -0.11063924, -0.20296875,  0.1077466 ,  0.13704315,\n          0.22084236,  0.15067798, -0.24943782, -0.24615055,  0.26162374,\n         -0.10170576, -0.20431463, -0.19134232, -0.2272512 , -0.09780462,\n          0.11427796, -0.15207677,  0.1515393 , -0.25823852, -0.09745224,\n         -0.29104006, -0.27579948,  0.04078761, -0.136289  ,  0.0501546 ,\n         -0.11449614, -0.03040698,  0.19154766,  0.142759  ,  0.18275693,\n          0.22301537, -0.13486826,  0.23817599, -0.27320543, -0.12141399,\n         -0.12119374,  0.08988199, -0.0714872 ,  0.06184539, -0.08997503,\n         -0.16085806, -0.24658477,  0.07804608, -0.09798813]],\n       dtype=float32)>,\n <tf.Variable 'dense_2/bias:0' shape=(64,) dtype=float32, numpy=\n array([0., 0., 0., 0., 0., 0., 0., 0., 0., 0., 0., 0., 0., 0., 0., 0., 0.,\n        0., 0., 0., 0., 0., 0., 0., 0., 0., 0., 0., 0., 0., 0., 0., 0., 0.,\n        0., 0., 0., 0., 0., 0., 0., 0., 0., 0., 0., 0., 0., 0., 0., 0., 0.,\n        0., 0., 0., 0., 0., 0., 0., 0., 0., 0., 0., 0., 0.], dtype=float32)>,\n <tf.Variable 'dense_3/kernel:0' shape=(64, 10) dtype=float32, numpy=\n array([[-0.03899685,  0.01317456,  0.20513809,  0.0261288 ,  0.07105094,\n          0.27464882, -0.05495769, -0.12424161,  0.24185994,  0.1407178 ],\n        [-0.21690367, -0.2536736 ,  0.10782218, -0.19333836, -0.18098886,\n         -0.27561218,  0.03185809, -0.28133678,  0.28258172,  0.20319802],\n        [ 0.0014734 ,  0.14814645,  0.23849276, -0.1866523 , -0.13323697,\n         -0.25455055, -0.2001796 , -0.24606875, -0.23188774,  0.08666122],\n        [-0.00053382, -0.26219818, -0.0916537 , -0.03119123, -0.21964225,\n         -0.04649085,  0.11516628,  0.0362277 , -0.05755866, -0.09195696],\n        [ 0.19814417, -0.20441514,  0.1310113 ,  0.21447459, -0.21765243,\n          0.10512751, -0.13431309, -0.20064268, -0.21692947, -0.17224243],\n        [ 0.11876303,  0.25857636,  0.19381168, -0.23146303, -0.20643525,\n         -0.11798285, -0.18386105,  0.01108935,  0.10474685,  0.02429906],\n        [ 0.10694546,  0.09948179, -0.0068936 , -0.27734566,  0.25011006,\n          0.28368846,  0.04110926, -0.19729671, -0.00129741,  0.18613228],\n        [-0.23330778,  0.11282551,  0.01997241,  0.17314535,  0.10186043,\n          0.23014107,  0.0763137 , -0.28064302, -0.13654175,  0.00874215],\n        [ 0.14651623,  0.15926212,  0.21051002,  0.02734667, -0.17135161,\n          0.05613884,  0.18876576,  0.00671253,  0.26790652,  0.13579965],\n        [ 0.28386477,  0.28381768, -0.12472036,  0.06808433,  0.05807522,\n         -0.17460307,  0.22329918, -0.2770743 , -0.27310163,  0.23887601],\n        [-0.0587377 , -0.12008463,  0.17147502,  0.07252333,  0.15665856,\n         -0.1802507 , -0.05202571,  0.23602042,  0.16160342, -0.25129586],\n        [ 0.25178078,  0.19142315, -0.13008408, -0.08269411, -0.17061277,\n          0.2207909 ,  0.15026689, -0.03425398, -0.25421035,  0.2847099 ],\n        [-0.14717332,  0.27133456, -0.03395784,  0.13396958,  0.14004362,\n          0.25927284, -0.00347117, -0.12079047,  0.01787242,  0.23331651],\n        [ 0.2093901 ,  0.00944981, -0.13902445, -0.00525782, -0.03476715,\n         -0.04754251,  0.11709642, -0.1246444 ,  0.1282812 , -0.06555294],\n        [ 0.22471628, -0.25640154,  0.10470492,  0.16786176,  0.18241718,\n          0.1286889 , -0.1265258 , -0.11621141, -0.03431445,  0.23715153],\n        [-0.23144789, -0.13778616,  0.2305105 , -0.0101864 , -0.00339127,\n         -0.09162614, -0.16853455, -0.26566595, -0.17150036, -0.27914432],\n        [ 0.19356498, -0.27960113,  0.25913557,  0.25901762, -0.0696108 ,\n          0.10038668,  0.13426468,  0.11268431,  0.11030474,  0.20028102],\n        [ 0.25955847, -0.20864144,  0.26790085, -0.19748822,  0.00077957,\n          0.20466721,  0.119706  ,  0.08517057,  0.08715862,  0.2645128 ],\n        [ 0.23876515,  0.16804987, -0.18438536, -0.10740919, -0.02277869,\n         -0.074435  , -0.07807752,  0.25920787, -0.04273237, -0.17909978],\n        [-0.23938228, -0.04164858, -0.19021322,  0.0162667 ,  0.10165852,\n          0.02005056,  0.0781315 , -0.0683087 , -0.20922121,  0.2614499 ],\n        [ 0.13376305, -0.26908866, -0.2650747 , -0.15193689, -0.08955403,\n          0.12542513, -0.1388751 ,  0.09713247,  0.20435274,  0.07010722],\n        [-0.03529078, -0.00856888,  0.04869559,  0.05825406, -0.28098315,\n          0.06990564, -0.22220057,  0.23550883, -0.17661464, -0.27696702],\n        [-0.25724533, -0.01538265, -0.2031543 ,  0.15012935, -0.23349711,\n          0.25633684, -0.03265443, -0.10067365,  0.16396847, -0.00550491],\n        [ 0.07728547,  0.16165066, -0.21023147,  0.00584111, -0.23235828,\n          0.00076306, -0.19924879, -0.08608158, -0.11013359, -0.22700632],\n        [ 0.12192652,  0.05600604, -0.0117586 , -0.08176315,  0.21594426,\n         -0.21120961, -0.05251192, -0.02104127,  0.0237233 , -0.15981486],\n        [-0.16929504,  0.03143856,  0.27151057,  0.05446815, -0.23692274,\n         -0.27396193, -0.1764944 ,  0.00489542,  0.08266771, -0.154072  ],\n        [ 0.10149178, -0.2296398 ,  0.03117189, -0.03462648, -0.16454518,\n         -0.27421188,  0.00242901, -0.1445655 ,  0.12953675,  0.05997464],\n        [ 0.09689203,  0.23954752,  0.26898184, -0.12844123,  0.08519447,\n         -0.1132129 ,  0.01243761, -0.14268035, -0.07541946,  0.27224913],\n        [-0.10895333,  0.05332348,  0.2315884 ,  0.02236301, -0.15466318,\n         -0.22762465,  0.08317906,  0.1252799 , -0.08142276,  0.19827396],\n        [-0.09249282,  0.1374053 , -0.23941875,  0.0898186 , -0.12275457,\n         -0.16190144,  0.17797813, -0.14642687,  0.12172788, -0.1696664 ],\n        [-0.02106985, -0.23567608,  0.02688053, -0.20377617,  0.2606894 ,\n          0.00544465, -0.17781763,  0.03691259,  0.2430596 , -0.06314002],\n        [-0.1541217 , -0.20602113,  0.03159368, -0.08504687, -0.21760747,\n         -0.00372466, -0.08442006,  0.00742823, -0.20164892, -0.17539392],\n        [ 0.02329782,  0.19885081,  0.02634299,  0.097083  , -0.04064043,\n          0.19615495, -0.16080795,  0.07317409,  0.09777832, -0.00568041],\n        [ 0.09918049,  0.16345623,  0.06247932, -0.02421188, -0.20665324,\n         -0.07380818, -0.00060156, -0.00374654, -0.23272862,  0.00828499],\n        [-0.10722372,  0.1977143 , -0.1435792 ,  0.19823751,  0.154028  ,\n         -0.00842652, -0.22636402,  0.20796853, -0.07756217,  0.04180419],\n        [-0.13889451,  0.01123226, -0.01682752, -0.07535626,  0.04482165,\n          0.2447767 , -0.07331666, -0.1902456 ,  0.07423875, -0.15852736],\n        [ 0.25234982, -0.06393929,  0.18257585,  0.15114862,  0.17458922,\n          0.08729428,  0.04124361,  0.10757613,  0.11925536,  0.10227659],\n        [-0.26197883,  0.23038432,  0.11854342, -0.21968177,  0.13197607,\n         -0.15346344, -0.01980758,  0.03896961, -0.22771107, -0.18795985],\n        [-0.23409536, -0.10579574, -0.20805176, -0.00957629,  0.14527622,\n         -0.2629548 , -0.03667748,  0.03921783, -0.17033802, -0.16697404],\n        [-0.1782156 ,  0.27119133,  0.08761525,  0.28388038,  0.12193549,\n          0.1466864 ,  0.04767796,  0.21383765, -0.08959131,  0.09209511],\n        [ 0.24056837, -0.12068233, -0.23349087,  0.25264272,  0.2613    ,\n          0.08617547,  0.24388519,  0.22887322,  0.25105622, -0.04859948],\n        [-0.11803982, -0.13606966, -0.04871245,  0.1728017 ,  0.24790922,\n         -0.14447683,  0.1671862 , -0.17079104, -0.03916758,  0.11590973],\n        [ 0.09420049, -0.28126225, -0.21466999,  0.12409851,  0.15038359,\n         -0.12810762, -0.2598315 , -0.18808137,  0.10592127, -0.02304393],\n        [ 0.14789164, -0.20729432, -0.0281834 ,  0.01669005,  0.04955032,\n         -0.1381941 ,  0.11214072, -0.12787463,  0.14455578,  0.00474137],\n        [-0.21365376,  0.02540565, -0.1997035 ,  0.04089868, -0.02263835,\n         -0.2398658 ,  0.05674419,  0.1498375 , -0.0230884 , -0.16098323],\n        [-0.16727683,  0.26869908,  0.05436006,  0.01805305,  0.05827728,\n          0.0370301 ,  0.11592546, -0.28111464,  0.1193231 ,  0.23808977],\n        [-0.1163491 , -0.12277046, -0.1898488 , -0.02578101, -0.16618899,\n          0.16147318, -0.13108157,  0.25848958,  0.0699867 ,  0.13424915],\n        [ 0.10654843,  0.01835552,  0.08664608, -0.0053823 , -0.24715424,\n          0.11102545,  0.18792883,  0.20107621,  0.03548187,  0.05911833],\n        [-0.17496893, -0.05172291,  0.10698611,  0.00518164, -0.02856439,\n         -0.12293346,  0.21421859, -0.15867555, -0.09583764, -0.09129633],\n        [ 0.25910786, -0.14492367, -0.07781513, -0.01896983,  0.07453927,\n          0.04002184, -0.0491233 ,  0.0712271 , -0.13449448, -0.00322032],\n        [ 0.07669523,  0.16792151, -0.04367758,  0.20087141,  0.2513441 ,\n          0.24166003,  0.2218593 ,  0.2094866 , -0.26187414, -0.1778158 ],\n        [ 0.26705095,  0.25050494, -0.1448761 , -0.09481034, -0.04350433,\n          0.26849118,  0.26461443, -0.26170042, -0.19888523,  0.09977996],\n        [ 0.07269481, -0.26110414, -0.14034945, -0.22989988,  0.14220792,\n          0.13472605,  0.09234515, -0.04548235,  0.259553  , -0.11298928],\n        [-0.14164287, -0.16407451,  0.15202916, -0.17336622, -0.16845301,\n         -0.1491922 , -0.26371604, -0.01104963,  0.19789237,  0.25181708],\n        [-0.12089685, -0.0953491 ,  0.22510478,  0.24432269,  0.06278312,\n         -0.09476173,  0.27716622,  0.07835954, -0.18191013, -0.25297782],\n        [ 0.17004412,  0.20126122,  0.15509075,  0.18211567, -0.2813871 ,\n         -0.21051374,  0.155471  ,  0.11650288,  0.18500811, -0.0091759 ],\n        [ 0.09025601, -0.04091464,  0.10470226,  0.14323732, -0.07038358,\n         -0.05350704, -0.1372461 , -0.00729781,  0.15703428, -0.20729078],\n        [ 0.04195464, -0.07395177,  0.17238453,  0.24113408,  0.07991698,\n         -0.0910406 ,  0.25943217, -0.09011669, -0.02171725, -0.07619733],\n        [ 0.03304893,  0.01591599,  0.15805233,  0.06127009, -0.10502914,\n          0.10227671,  0.21040711,  0.23916325,  0.14569604, -0.23056024],\n        [-0.07658872,  0.19959122, -0.26647627,  0.10289729, -0.18376416,\n          0.19611305,  0.08342141, -0.09728938, -0.00442502,  0.20329395],\n        [-0.13635086,  0.00937033, -0.19301745,  0.02091587, -0.15721262,\n          0.04950973, -0.1341194 ,  0.2129198 ,  0.14383495,  0.10843086],\n        [ 0.0387876 ,  0.05647093,  0.26091704, -0.14801161,  0.02382186,\n         -0.13098212,  0.22724012, -0.20927206,  0.18326002,  0.16279072],\n        [ 0.07817081,  0.16747636,  0.15832424, -0.06671961, -0.0148474 ,\n         -0.2830351 ,  0.08206946,  0.2242265 ,  0.04911307, -0.0607764 ],\n        [-0.08728002, -0.18024868,  0.23361644,  0.1860371 , -0.26464626,\n         -0.27188528, -0.01959488, -0.13217744,  0.01352167,  0.05390698]],\n       dtype=float32)>,\n <tf.Variable 'dense_3/bias:0' shape=(10,) dtype=float32, numpy=array([0., 0., 0., 0., 0., 0., 0., 0., 0., 0.], dtype=float32)>]"
     },
     "execution_count": 3,
     "metadata": {},
     "output_type": "execute_result"
    }
   ],
   "source": [
    "model.build(input_shape=(None, 3))\r\n",
    "model.weights"
   ]
  },
  {
   "cell_type": "markdown",
   "metadata": {},
   "source": [
    "#### [C] 7.5 summary() 方法显示模型内容"
   ]
  },
  {
   "cell_type": "code",
   "execution_count": 4,
   "metadata": {},
   "outputs": [
    {
     "name": "stdout",
     "output_type": "stream",
     "text": [
      "Model: \"sequential_1\"\n",
      "_________________________________________________________________\n",
      " Layer (type)                Output Shape              Param #   \n",
      "=================================================================\n",
      " dense_2 (Dense)             (None, 64)                256       \n",
      "                                                                 \n",
      " dense_3 (Dense)             (None, 10)                650       \n",
      "                                                                 \n",
      "=================================================================\n",
      "Total params: 906\n",
      "Trainable params: 906\n",
      "Non-trainable params: 0\n",
      "_________________________________________________________________\n"
     ]
    }
   ],
   "source": [
    "model.summary()"
   ]
  },
  {
   "cell_type": "markdown",
   "metadata": {},
   "source": [
    "#### [C] 7.6 利用name参数命名模型和层"
   ]
  },
  {
   "cell_type": "code",
   "execution_count": 5,
   "metadata": {},
   "outputs": [
    {
     "name": "stdout",
     "output_type": "stream",
     "text": [
      "Model: \"TBBT's model\"\n",
      "_________________________________________________________________\n",
      " Layer (type)                Output Shape              Param #   \n",
      "=================================================================\n",
      " 1st_layer (Dense)           (None, 64)                256       \n",
      "                                                                 \n",
      " 2nd_layer (Dense)           (None, 10)                650       \n",
      "                                                                 \n",
      "=================================================================\n",
      "Total params: 906\n",
      "Trainable params: 906\n",
      "Non-trainable params: 0\n",
      "_________________________________________________________________\n"
     ]
    }
   ],
   "source": [
    "model = keras.Sequential(name=\"TBBT's model\")\r\n",
    "model.add(layers.Dense(64, activation='relu', name='1st_layer'))\r\n",
    "model.add(layers.Dense(10, activation='softmax', name='2nd_layer'))\r\n",
    "model.build(input_shape=(None, 3))\r\n",
    "model.summary()"
   ]
  },
  {
   "cell_type": "markdown",
   "metadata": {},
   "source": [
    "#### [C] 7.7 提前声明模型的输入形状"
   ]
  },
  {
   "cell_type": "code",
   "execution_count": 6,
   "metadata": {},
   "outputs": [],
   "source": [
    "model = keras.Sequential()\r\n",
    "model.add(keras.Input(shape=(3,)))  # shape参数是单个样本的形状，而不是批量的形状\r\n",
    "model.add(layers.Dense(64, activation='relu'))"
   ]
  },
  {
   "cell_type": "markdown",
   "metadata": {},
   "source": [
    "#### [C] 7.8 使用summary()跟踪模型输出形状的变化"
   ]
  },
  {
   "cell_type": "code",
   "execution_count": 7,
   "metadata": {},
   "outputs": [
    {
     "name": "stdout",
     "output_type": "stream",
     "text": [
      "Model: \"sequential_2\"\n",
      "_________________________________________________________________\n",
      " Layer (type)                Output Shape              Param #   \n",
      "=================================================================\n",
      " dense_4 (Dense)             (None, 64)                256       \n",
      "                                                                 \n",
      "=================================================================\n",
      "Total params: 256\n",
      "Trainable params: 256\n",
      "Non-trainable params: 0\n",
      "_________________________________________________________________\n",
      "Model: \"sequential_2\"\n",
      "_________________________________________________________________\n",
      " Layer (type)                Output Shape              Param #   \n",
      "=================================================================\n",
      " dense_4 (Dense)             (None, 64)                256       \n",
      "                                                                 \n",
      " dense_5 (Dense)             (None, 10)                650       \n",
      "                                                                 \n",
      "=================================================================\n",
      "Total params: 906\n",
      "Trainable params: 906\n",
      "Non-trainable params: 0\n",
      "_________________________________________________________________\n"
     ]
    }
   ],
   "source": [
    "model.summary()\r\n",
    "\r\n",
    "model.add(layers.Dense(10, activation='softmax'))\r\n",
    "model.summary()"
   ]
  },
  {
   "cell_type": "markdown",
   "metadata": {},
   "source": [
    "### 7.2.2 函数式API"
   ]
  },
  {
   "cell_type": "markdown",
   "metadata": {},
   "source": [
    "#### 1 简单示例"
   ]
  },
  {
   "cell_type": "markdown",
   "metadata": {},
   "source": [
    "##### [C] 7.9 带有两个Dense层的简单函数式模型"
   ]
  },
  {
   "cell_type": "code",
   "execution_count": 8,
   "metadata": {},
   "outputs": [],
   "source": [
    "# 声明一个Input. inputs对象保存了模型将处理的数据形状和数据类型信息\r\n",
    "# 每个样本的形状为(3, )  <--  inputs.shape\r\n",
    "# 数据类型 <-- inputs.dtype\r\n",
    "inputs   = keras.Input(shape=(3,), name='my_input')\r\n",
    "# 创建了一个层，并在输入上调用该层\r\n",
    "features = layers.Dense(64, activation='relu')(inputs)\r\n",
    "\r\n",
    "outputs  = layers.Dense(10, activation='softmax')(features)\r\n",
    "model    = keras.Model(inputs=inputs, outputs=outputs)"
   ]
  },
  {
   "cell_type": "markdown",
   "metadata": {},
   "source": [
    "#### 2 多输入、多输出的模型"
   ]
  },
  {
   "cell_type": "markdown",
   "metadata": {},
   "source": [
    "##### [C] 7.10 多输入、多输出的函数式模型"
   ]
  },
  {
   "cell_type": "code",
   "execution_count": 9,
   "metadata": {},
   "outputs": [],
   "source": [
    "vocabulary_size = 10000\r\n",
    "num_tags        = 100\r\n",
    "num_departments = 4\r\n",
    "\r\n",
    "# 定义模型输入\r\n",
    "title     = keras.Input(shape=(vocabulary_size,), name='title')\r\n",
    "text_body = keras.Input(shape=(vocabulary_size,), name='text_body')\r\n",
    "tags      = keras.Input(shape=(num_tags)        , name='tags')\r\n",
    "\r\n",
    "# 通过拼接将输入特征组合成张量 features\r\n",
    "features = layers.Concatenate()([title, text_body, tags])\r\n",
    "# 利用中间层, 将输入特征重组为更加丰富的表示\r\n",
    "features = layers.Dense(64, activation='relu')(features)\r\n",
    "\r\n",
    "# 定义模型输出\r\n",
    "priority   = layers.Dense(1              , activation='sigmoid', name='priority')(features)\r\n",
    "department = layers.Dense(num_departments, activation='softmax', name='department')(features)\r\n",
    "\r\n",
    "# 通过指定输入和输出来创建模型\r\n",
    "model = keras.Model(inputs=[title, text_body, tags], outputs=[priority, department])"
   ]
  },
  {
   "cell_type": "code",
   "execution_count": 10,
   "metadata": {},
   "outputs": [
    {
     "name": "stdout",
     "output_type": "stream",
     "text": [
      "Model: \"model_1\"\n",
      "__________________________________________________________________________________________________\n",
      " Layer (type)                   Output Shape         Param #     Connected to                     \n",
      "==================================================================================================\n",
      " title (InputLayer)             [(None, 10000)]      0           []                               \n",
      "                                                                                                  \n",
      " text_body (InputLayer)         [(None, 10000)]      0           []                               \n",
      "                                                                                                  \n",
      " tags (InputLayer)              [(None, 100)]        0           []                               \n",
      "                                                                                                  \n",
      " concatenate (Concatenate)      (None, 20100)        0           ['title[0][0]',                  \n",
      "                                                                  'text_body[0][0]',              \n",
      "                                                                  'tags[0][0]']                   \n",
      "                                                                                                  \n",
      " dense_8 (Dense)                (None, 64)           1286464     ['concatenate[0][0]']            \n",
      "                                                                                                  \n",
      " priority (Dense)               (None, 1)            65          ['dense_8[0][0]']                \n",
      "                                                                                                  \n",
      " department (Dense)             (None, 4)            260         ['dense_8[0][0]']                \n",
      "                                                                                                  \n",
      "==================================================================================================\n",
      "Total params: 1,286,789\n",
      "Trainable params: 1,286,789\n",
      "Non-trainable params: 0\n",
      "__________________________________________________________________________________________________\n"
     ]
    }
   ],
   "source": [
    "model.summary()"
   ]
  },
  {
   "cell_type": "markdown",
   "metadata": {},
   "source": [
    "#### 3 训练一个多输入、多输出模型"
   ]
  },
  {
   "cell_type": "markdown",
   "metadata": {},
   "source": [
    "##### [C] 7.11 通过给定输入和目标组成的列表来训练模型"
   ]
  },
  {
   "cell_type": "code",
   "execution_count": 11,
   "metadata": {},
   "outputs": [
    {
     "name": "stdout",
     "output_type": "stream",
     "text": [
      "40/40 [==============================] - 1s 14ms/step - loss: 32.7933 - priority_loss: 0.3296 - department_loss: 32.4637 - priority_mean_absolute_error: 0.4955 - department_accuracy: 0.2547\n",
      "40/40 [==============================] - 0s 5ms/step - loss: 36.8802 - priority_loss: 0.3358 - department_loss: 36.5444 - priority_mean_absolute_error: 0.5021 - department_accuracy: 0.1320\n",
      "40/40 [==============================] - 0s 5ms/step\n"
     ]
    }
   ],
   "source": [
    "import numpy as np\r\n",
    "\r\n",
    "num_samples = 1280\r\n",
    "\r\n",
    "# 虚构的输入数据\r\n",
    "title_data     = np.random.randint(0, 2, size=(num_samples, vocabulary_size))\r\n",
    "text_body_data = np.random.randint(0, 2, size=(num_samples, vocabulary_size))\r\n",
    "tags_data      = np.random.randint(0, 2, size=(num_samples, num_tags))\r\n",
    "\r\n",
    "# 虚构的目标数据\r\n",
    "priority_data   = np.random.random(size=(num_samples, 1))\r\n",
    "department_data = np.random.randint(0, 2, size=(num_samples, num_departments))\r\n",
    "\r\n",
    "model.compile(optimizer='rmsprop',\r\n",
    "              loss=['mean_squared_error', 'categorical_crossentropy'],\r\n",
    "              metrics=[['mean_absolute_error'], ['accuracy']])\r\n",
    "\r\n",
    "model.fit([title_data, text_body_data, tags_data],\r\n",
    "          [priority_data, department_data],\r\n",
    "          epochs=1)\r\n",
    "\r\n",
    "model.evaluate([title_data, text_body_data, tags_data],\r\n",
    "               [priority_data, department_data])\r\n",
    "\r\n",
    "priority_preds, department_preds = model.predict([title_data, text_body_data, tags_data])"
   ]
  },
  {
   "cell_type": "code",
   "execution_count": 12,
   "metadata": {},
   "outputs": [
    {
     "name": "stdout",
     "output_type": "stream",
     "text": [
      "Model: \"model_1\"\n",
      "__________________________________________________________________________________________________\n",
      " Layer (type)                   Output Shape         Param #     Connected to                     \n",
      "==================================================================================================\n",
      " title (InputLayer)             [(None, 10000)]      0           []                               \n",
      "                                                                                                  \n",
      " text_body (InputLayer)         [(None, 10000)]      0           []                               \n",
      "                                                                                                  \n",
      " tags (InputLayer)              [(None, 100)]        0           []                               \n",
      "                                                                                                  \n",
      " concatenate (Concatenate)      (None, 20100)        0           ['title[0][0]',                  \n",
      "                                                                  'text_body[0][0]',              \n",
      "                                                                  'tags[0][0]']                   \n",
      "                                                                                                  \n",
      " dense_8 (Dense)                (None, 64)           1286464     ['concatenate[0][0]']            \n",
      "                                                                                                  \n",
      " priority (Dense)               (None, 1)            65          ['dense_8[0][0]']                \n",
      "                                                                                                  \n",
      " department (Dense)             (None, 4)            260         ['dense_8[0][0]']                \n",
      "                                                                                                  \n",
      "==================================================================================================\n",
      "Total params: 1,286,789\n",
      "Trainable params: 1,286,789\n",
      "Non-trainable params: 0\n",
      "__________________________________________________________________________________________________\n"
     ]
    }
   ],
   "source": [
    "model.summary()"
   ]
  },
  {
   "cell_type": "markdown",
   "metadata": {},
   "source": [
    "##### [C] 7.12 通过给定输入和目标组成的字典来训练模型"
   ]
  },
  {
   "cell_type": "code",
   "execution_count": 13,
   "metadata": {},
   "outputs": [
    {
     "name": "stdout",
     "output_type": "stream",
     "text": [
      "40/40 [==============================] - 1s 13ms/step - loss: 45.0144 - priority_loss: 0.3358 - department_loss: 44.6786 - priority_mean_absolute_error: 0.5021 - department_accuracy: 0.2523\n",
      "40/40 [==============================] - 0s 4ms/step - loss: 39.7979 - priority_loss: 0.3358 - department_loss: 39.4621 - priority_mean_absolute_error: 0.5021 - department_accuracy: 0.6562\n",
      "40/40 [==============================] - 0s 4ms/step\n"
     ]
    }
   ],
   "source": [
    "model.compile(optimizer=\"rmsprop\",\r\n",
    "              loss={\"priority\": \"mean_squared_error\", \"department\": \"categorical_crossentropy\"},\r\n",
    "              metrics={\"priority\": [\"mean_absolute_error\"], \"department\": [\"accuracy\"]})\r\n",
    "model.fit({\"title\": title_data, \"text_body\": text_body_data, \"tags\": tags_data},\r\n",
    "          {\"priority\": priority_data, \"department\": department_data},\r\n",
    "          epochs=1)\r\n",
    "model.evaluate({\"title\": title_data, \"text_body\": text_body_data, \"tags\": tags_data},\r\n",
    "               {\"priority\": priority_data, \"department\": department_data})\r\n",
    "priority_preds, department_preds = model.predict(\r\n",
    "    {\"title\": title_data, \"text_body\": text_body_data, \"tags\": tags_data})"
   ]
  },
  {
   "cell_type": "markdown",
   "metadata": {},
   "source": [
    "#### 4 函数式API的强大之处：获取层的连接方式"
   ]
  },
  {
   "cell_type": "code",
   "execution_count": 14,
   "metadata": {},
   "outputs": [
    {
     "data": {
      "image/png": "[encoded data removed]",
      "text/plain": "<IPython.core.display.Image object>"
     },
     "execution_count": 14,
     "metadata": {},
     "output_type": "execute_result"
    }
   ],
   "source": [
    "keras.utils.plot_model(model, 'ticket_classifier.png')"
   ]
  },
  {
   "cell_type": "code",
   "execution_count": 15,
   "metadata": {},
   "outputs": [
    {
     "data": {
      "image/png": "[encoded data removed]",
      "text/plain": "<IPython.core.display.Image object>"
     },
     "execution_count": 15,
     "metadata": {},
     "output_type": "execute_result"
    }
   ],
   "source": [
    "keras.utils.plot_model(model, \"ticket_classifier_with_shape_info.png\", show_shapes=True)"
   ]
  },
  {
   "cell_type": "markdown",
   "metadata": {},
   "source": [
    "##### [C] 7.13 检索函数式模型某一层的输入或输出"
   ]
  },
  {
   "cell_type": "code",
   "execution_count": 16,
   "metadata": {},
   "outputs": [
    {
     "data": {
      "text/plain": "[<keras.engine.input_layer.InputLayer at 0x2242d7aaa50>,\n <keras.engine.input_layer.InputLayer at 0x2242d860b10>,\n <keras.engine.input_layer.InputLayer at 0x2242d867790>,\n <keras.layers.merging.concatenate.Concatenate at 0x2242d870f90>,\n <keras.layers.core.dense.Dense at 0x224749c3a50>,\n <keras.layers.core.dense.Dense at 0x2242d4a3910>,\n <keras.layers.core.dense.Dense at 0x2242d844450>]"
     },
     "execution_count": 16,
     "metadata": {},
     "output_type": "execute_result"
    }
   ],
   "source": [
    "model.layers"
   ]
  },
  {
   "cell_type": "code",
   "execution_count": 17,
   "metadata": {},
   "outputs": [
    {
     "data": {
      "text/plain": "[<KerasTensor: shape=(None, 10000) dtype=float32 (created by layer 'title')>,\n <KerasTensor: shape=(None, 10000) dtype=float32 (created by layer 'text_body')>,\n <KerasTensor: shape=(None, 100) dtype=float32 (created by layer 'tags')>]"
     },
     "execution_count": 17,
     "metadata": {},
     "output_type": "execute_result"
    }
   ],
   "source": [
    "model.layers[3].input"
   ]
  },
  {
   "cell_type": "code",
   "execution_count": 18,
   "metadata": {},
   "outputs": [
    {
     "data": {
      "text/plain": "<KerasTensor: shape=(None, 20100) dtype=float32 (created by layer 'concatenate')>"
     },
     "execution_count": 18,
     "metadata": {},
     "output_type": "execute_result"
    }
   ],
   "source": [
    "model.layers[3].output"
   ]
  },
  {
   "cell_type": "markdown",
   "metadata": {},
   "source": [
    "##### [C] 7.14 重复使用中间层的输出, 创建一个新模型"
   ]
  },
  {
   "cell_type": "code",
   "execution_count": 19,
   "metadata": {},
   "outputs": [
    {
     "data": {
      "image/png": "[encoded data removed]",
      "text/plain": "<IPython.core.display.Image object>"
     },
     "execution_count": 19,
     "metadata": {},
     "output_type": "execute_result"
    }
   ],
   "source": [
    "# layers[4]是中间的Dense层\r\n",
    "features   = model.layers[4].output\r\n",
    "difficulty = layers.Dense(3, activation='softmax', name='difficulty')(features)\r\n",
    "\r\n",
    "new_model = keras.Model(inputs=[title, text_body, tags], outputs=[priority, department, difficulty])\r\n",
    "\r\n",
    "keras.utils.plot_model(new_model, 'updated_ticket_classifier.png', show_shapes=True)"
   ]
  },
  {
   "cell_type": "markdown",
   "metadata": {},
   "source": [
    "### 7.2.3 模型子类化"
   ]
  },
  {
   "cell_type": "markdown",
   "metadata": {},
   "source": [
    "#### 1 将前一个例子重新实现为Model子类"
   ]
  },
  {
   "cell_type": "markdown",
   "metadata": {},
   "source": [
    "##### [C] 7.15 简单的子类化模型"
   ]
  },
  {
   "cell_type": "code",
   "execution_count": 20,
   "metadata": {},
   "outputs": [],
   "source": [
    "class CustomerTickerModel(keras.Model):\r\n",
    "\r\n",
    "    def __init__(self, num_departments):\r\n",
    "        # 构造函数\r\n",
    "        super().__init__()\r\n",
    "\r\n",
    "        # 在构造函数中定义子层\r\n",
    "        self.concat_layer          = layers.Concatenate()\r\n",
    "        self.mixing_layer          = layers.Dense(64, activation='relu')\r\n",
    "        self.priority_scorer       = layers.Dense(1 , activation='sigmoid')\r\n",
    "        self.department_classifier = layers.Dense(num_departments, activation='softmax')\r\n",
    "\r\n",
    "    def call(self, inputs):\r\n",
    "        # 定义前向传播\r\n",
    "        title     = inputs['title']\r\n",
    "        text_body = inputs['text_body']\r\n",
    "        tags      = inputs['tags']\r\n",
    "\r\n",
    "        features   = self.concat_layer([title, text_body, tags])\r\n",
    "        features   = self.mixing_layer(features)\r\n",
    "        priority   = self.priority_scorer(features)\r\n",
    "        department = self.department_classifier(features)\r\n",
    "\r\n",
    "        return priority, department\r\n",
    "\r\n",
    "# 模型实例化\r\n",
    "model = CustomerTickerModel(num_departments=4)\r\n",
    "\r\n",
    "priority, department = model({'title':title_data, 'text_body':text_body_data, 'tags':tags_data})\r\n",
    "\r\n"
   ]
  },
  {
   "cell_type": "code",
   "execution_count": 21,
   "metadata": {},
   "outputs": [
    {
     "name": "stdout",
     "output_type": "stream",
     "text": [
      "40/40 [==============================] - 1s 13ms/step - loss: 15.4900 - output_1_loss: 0.3261 - output_2_loss: 15.1639 - output_1_mean_absolute_error: 0.4931 - output_2_accuracy: 0.1937\n",
      "40/40 [==============================] - 0s 5ms/step - loss: 17.6780 - output_1_loss: 0.3316 - output_2_loss: 17.3465 - output_1_mean_absolute_error: 0.4979 - output_2_accuracy: 0.5539\n",
      "40/40 [==============================] - 0s 4ms/step\n"
     ]
    }
   ],
   "source": [
    "model.compile(optimizer=\"rmsprop\",\r\n",
    "              loss=[\"mean_squared_error\", \"categorical_crossentropy\"],\r\n",
    "              metrics=[[\"mean_absolute_error\"], [\"accuracy\"]])\r\n",
    "model.fit({\"title\": title_data,\r\n",
    "           \"text_body\": text_body_data,\r\n",
    "           \"tags\": tags_data},\r\n",
    "          [priority_data, department_data],\r\n",
    "          epochs=1)\r\n",
    "model.evaluate({\"title\": title_data,\r\n",
    "                \"text_body\": text_body_data,\r\n",
    "                \"tags\": tags_data},\r\n",
    "               [priority_data, department_data])\r\n",
    "priority_preds, department_preds = model.predict({\"title\": title_data,\r\n",
    "                                                  \"text_body\": text_body_data,\r\n",
    "                                                  \"tags\": tags_data})"
   ]
  },
  {
   "cell_type": "markdown",
   "metadata": {},
   "source": [
    "### 7.2.4 混合使用不同的组件"
   ]
  },
  {
   "cell_type": "markdown",
   "metadata": {},
   "source": [
    "#### [C] 7.16 创建一个包含子类化模型的函数式模型"
   ]
  },
  {
   "cell_type": "code",
   "execution_count": 22,
   "metadata": {},
   "outputs": [],
   "source": [
    "class Classifier(keras.Model):\r\n",
    "\r\n",
    "    def __init__(self, num_classes=2):\r\n",
    "        super().__init__()\r\n",
    "        if num_classes == 2:\r\n",
    "            num_units = 1\r\n",
    "            activation = \"sigmoid\"\r\n",
    "        else:\r\n",
    "            num_units = num_classes\r\n",
    "            activation = \"softmax\"\r\n",
    "        self.dense = layers.Dense(num_units, activation=activation)\r\n",
    "\r\n",
    "    def call(self, inputs):\r\n",
    "        return self.dense(inputs)\r\n",
    "\r\n",
    "inputs   = keras.Input(shape=(3,))\r\n",
    "features = layers.Dense(64, activation=\"relu\")(inputs)\r\n",
    "outputs  = Classifier(num_classes=10)(features)\r\n",
    "model    = keras.Model(inputs=inputs, outputs=outputs)"
   ]
  },
  {
   "cell_type": "markdown",
   "metadata": {},
   "source": [
    "#### [C] 7.17 创建一个包含函数式模型的子类化模型"
   ]
  },
  {
   "cell_type": "code",
   "execution_count": 23,
   "metadata": {},
   "outputs": [],
   "source": [
    "inputs  = keras.Input(shape=(64,))\r\n",
    "outputs = layers.Dense(1, activation='sigmoid')(inputs)\r\n",
    "binary_classifier = keras.Model(inputs=inputs, outputs=outputs)\r\n",
    "\r\n",
    "class MyModel(keras.Model):\r\n",
    "\r\n",
    "    def __init__(self, num_classes=2):\r\n",
    "        super().__init__()\r\n",
    "        self.dense = layers.Dense(64, activation='relu')\r\n",
    "        self.classifier = binary_classifier\r\n",
    "\r\n",
    "    def call(self, inputs):\r\n",
    "        features = self.dense(inputs)\r\n",
    "\r\n",
    "        return self.classifier(features)\r\n",
    "\r\n",
    "# 实例化\r\n",
    "model = MyModel()"
   ]
  },
  {
   "cell_type": "code",
   "execution_count": 24,
   "metadata": {},
   "outputs": [
    {
     "name": "stdout",
     "output_type": "stream",
     "text": [
      "Model: \"my_model\"\n",
      "_________________________________________________________________\n",
      " Layer (type)                Output Shape              Param #   \n",
      "=================================================================\n",
      " dense_15 (Dense)            multiple                  256       \n",
      "                                                                 \n",
      " model_4 (Functional)        (None, 1)                 65        \n",
      "                                                                 \n",
      "=================================================================\n",
      "Total params: 321\n",
      "Trainable params: 321\n",
      "Non-trainable params: 0\n",
      "_________________________________________________________________\n"
     ]
    }
   ],
   "source": [
    "model.build(input_shape=(None, 3))\r\n",
    "model.summary()"
   ]
  },
  {
   "cell_type": "markdown",
   "metadata": {},
   "source": [
    "### 7.2.5 用正确的工具完成工作"
   ]
  },
  {
   "cell_type": "markdown",
   "metadata": {},
   "source": [
    "## 7.3 使用内置的训练循环和评估循环"
   ]
  },
  {
   "cell_type": "markdown",
   "metadata": {},
   "source": [
    "### [C] 7.18 标准工作流程: **`compile()`**, **`fit()`**, **`evaluate()`**, **`predict()`**"
   ]
  },
  {
   "cell_type": "code",
   "execution_count": 25,
   "metadata": {},
   "outputs": [
    {
     "name": "stdout",
     "output_type": "stream",
     "text": [
      "Epoch 1/3\n",
      "1563/1563 [==============================] - 12s 7ms/step - loss: 0.2937 - accuracy: 0.9109 - val_loss: 0.1424 - val_accuracy: 0.9583\n",
      "Epoch 2/3\n",
      "1563/1563 [==============================] - 11s 7ms/step - loss: 0.1588 - accuracy: 0.9538 - val_loss: 0.1173 - val_accuracy: 0.9685\n",
      "Epoch 3/3\n",
      "1563/1563 [==============================] - 11s 7ms/step - loss: 0.1304 - accuracy: 0.9640 - val_loss: 0.0997 - val_accuracy: 0.9734\n",
      "313/313 [==============================] - 1s 2ms/step - loss: 0.0976 - accuracy: 0.9735\n",
      "313/313 [==============================] - 1s 2ms/step\n"
     ]
    }
   ],
   "source": [
    "from tensorflow.keras.datasets import mnist\r\n",
    "\r\n",
    "# 创建模型\r\n",
    "def get_mnist_model():\r\n",
    "    inputs   = keras.Input(shape=(28 * 28,))\r\n",
    "    features = layers.Dense(512, activation='relu')(inputs)\r\n",
    "    features = layers.Dropout(0.5)(features)\r\n",
    "    outputs  = layers.Dense(10, activation='softmax')(features)\r\n",
    "    model    = keras.Model(inputs, outputs)\r\n",
    "\r\n",
    "    return model\r\n",
    "\r\n",
    "# 加载数据\r\n",
    "(images, labels), (test_images, test_labels) = mnist.load_data()\r\n",
    "\r\n",
    "images      = images.reshape((60000, 28 * 28)).astype('float32') / 255\r\n",
    "test_images = test_images.reshape((10000, 28 * 28)).astype('float32') / 255\r\n",
    "\r\n",
    "train_images, val_images = images[10000:], images[:10000]\r\n",
    "train_labels, val_labels = labels[10000:], labels[:10000]\r\n",
    "\r\n",
    "# 实例化\r\n",
    "model = get_mnist_model()\r\n",
    "\r\n",
    "# 编译模型. 指定模型的优化器，最小损失函数，监控指标\r\n",
    "model.compile(optimizer='rmsprop', loss='sparse_categorical_crossentropy', metrics=['accuracy'])\r\n",
    "\r\n",
    "# 训练模型\r\n",
    "model.fit(train_images, train_labels, \r\n",
    "          epochs=3,\r\n",
    "          validation_data=(val_images, val_labels)\r\n",
    "         )\r\n",
    "\r\n",
    "# 使用evaluate()计算模型在新数据上的损失和指标\r\n",
    "test_metrics = model.evaluate(test_images, test_labels)\r\n",
    "\r\n",
    "# 使用predict()计算模型在新数据上的分类概率\r\n",
    "predictions = model.predict(test_images)"
   ]
  },
  {
   "cell_type": "markdown",
   "metadata": {},
   "source": [
    "### 7.3.1 编写自定义指标\r\n",
    "**Keras指标是`keras.metrics.Metric类的子类`**"
   ]
  },
  {
   "cell_type": "markdown",
   "metadata": {},
   "source": [
    "#### [C] 7.19 通过Metric类子类化来实现自定义指标. 基于`衡量均方根误差(RMSE)`"
   ]
  },
  {
   "cell_type": "code",
   "execution_count": 26,
   "metadata": {},
   "outputs": [],
   "source": [
    "import tensorflow as tf\r\n",
    "\r\n",
    "# 自定义RMSE\r\n",
    "class RootMeanSquaredError(keras.metrics.Metric):\r\n",
    "\r\n",
    "    def __init__(self, name='rmse', **kwargs):\r\n",
    "        super().__init__(name=name, **kwargs)\r\n",
    "\r\n",
    "        self.mse_sum       = self.add_weight(name='mse_sum'     , initializer='zeros')\r\n",
    "        self.total_samples = self.add_weight(name='total_sample', initializer='zeros', dtype='int32')\r\n",
    "\r\n",
    "    # 实现状态更新的逻辑\r\n",
    "    def update_state(self, y_true, y_pred, sample_weight=None):\r\n",
    "        # y_true参数是一个数据批量对应的目标或标签\r\n",
    "        # y_pred表示相应的模型预测值\r\n",
    "        y_true = tf.one_hot(y_true, depth=tf.shape(y_pred)[1])\r\n",
    "        \r\n",
    "        mse = tf.reduce_sum(tf.square(y_true - y_pred))\r\n",
    "        self.mse_sum.assign_add(mse)\r\n",
    "        self.total_samples.assign_add(num_samples)\r\n",
    "        \r\n",
    "    # 返回指标的当前值\r\n",
    "    def result(self):\r\n",
    "        return tf.sqrt(self.mse_sum / tf.cast(self.total_samples, tf.float32))\r\n",
    "\r\n",
    "    # 重置指标状态\r\n",
    "    def reset_state(self):\r\n",
    "        self.mse_sum.assign(0.)\r\n",
    "        self.total_samples.assign(0)\r\n"
   ]
  },
  {
   "cell_type": "code",
   "execution_count": 27,
   "metadata": {},
   "outputs": [
    {
     "name": "stdout",
     "output_type": "stream",
     "text": [
      "Epoch 1/3\n",
      "1563/1563 [==============================] - 11s 7ms/step - loss: 0.2944 - accuracy: 0.9121 - rmse: 1.1349 - val_loss: 0.1377 - val_accuracy: 0.9605 - val_rmse: 1.1635\n",
      "Epoch 2/3\n",
      "1563/1563 [==============================] - 13s 9ms/step - loss: 0.1572 - accuracy: 0.9534 - rmse: 1.1624 - val_loss: 0.1050 - val_accuracy: 0.9684 - val_rmse: 1.1685\n",
      "Epoch 3/3\n",
      "1563/1563 [==============================] - 11s 7ms/step - loss: 0.1284 - accuracy: 0.9631 - rmse: 1.1673 - val_loss: 0.1051 - val_accuracy: 0.9714 - val_rmse: 1.1723\n",
      "313/313 [==============================] - 1s 2ms/step - loss: 0.1009 - accuracy: 0.9705 - rmse: 1.1745\n"
     ]
    }
   ],
   "source": [
    "model = get_mnist_model()\r\n",
    "\r\n",
    "model.compile(optimizer='rmsprop', loss='sparse_categorical_crossentropy', metrics=['accuracy', RootMeanSquaredError()])\r\n",
    "\r\n",
    "model.fit(train_images, train_labels,\r\n",
    "          epochs=3,\r\n",
    "          validation_data=(val_images, val_labels)\r\n",
    "         )\r\n",
    "\r\n",
    "test_metrics = model.evaluate(test_images, test_labels)"
   ]
  },
  {
   "cell_type": "markdown",
   "metadata": {},
   "source": [
    "### 7.2.3 使用回调函数 using callbacks\r\n",
    "* **模型检查点**(`model checkpointing`)：在训练过程中的不同时间点保存模型的当前状态。\r\n",
    "* **提前终止**(`early stopping`)：如果验证损失不再改善，则中断训练。\r\n",
    "* **在训练过程中动态调节某些参数值**：比如调节优化器的学习率。\r\n",
    "* **在训练过程中记录训练指标和验证指标，或者将模型学到的表示可视化**：fit()进度条实际上就是一个回调函数。"
   ]
  },
  {
   "cell_type": "markdown",
   "metadata": {},
   "source": [
    "#### [C] 7.20 在fit()方法中使用callbacks参数"
   ]
  },
  {
   "cell_type": "code",
   "execution_count": 28,
   "metadata": {},
   "outputs": [
    {
     "name": "stdout",
     "output_type": "stream",
     "text": [
      "Epoch 1/10\n",
      "1563/1563 [==============================] - 14s 9ms/step - loss: 0.3007 - accuracy: 0.9104 - val_loss: 0.1424 - val_accuracy: 0.9575\n",
      "Epoch 2/10\n",
      "1563/1563 [==============================] - 13s 8ms/step - loss: 0.1639 - accuracy: 0.9534 - val_loss: 0.1176 - val_accuracy: 0.9664\n",
      "Epoch 3/10\n",
      "1563/1563 [==============================] - 12s 8ms/step - loss: 0.1313 - accuracy: 0.9623 - val_loss: 0.1065 - val_accuracy: 0.9704\n",
      "Epoch 4/10\n",
      "1563/1563 [==============================] - 13s 9ms/step - loss: 0.1139 - accuracy: 0.9680 - val_loss: 0.0994 - val_accuracy: 0.9757\n",
      "Epoch 5/10\n",
      "1563/1563 [==============================] - 15s 9ms/step - loss: 0.1055 - accuracy: 0.9713 - val_loss: 0.0930 - val_accuracy: 0.9756\n",
      "Epoch 6/10\n",
      "1563/1563 [==============================] - 15s 9ms/step - loss: 0.0957 - accuracy: 0.9743 - val_loss: 0.0988 - val_accuracy: 0.9761\n",
      "Epoch 7/10\n",
      "1563/1563 [==============================] - 14s 9ms/step - loss: 0.0886 - accuracy: 0.9767 - val_loss: 0.0986 - val_accuracy: 0.9770\n",
      "Epoch 8/10\n",
      "1563/1563 [==============================] - 14s 9ms/step - loss: 0.0833 - accuracy: 0.9779 - val_loss: 0.0876 - val_accuracy: 0.9789\n",
      "Epoch 9/10\n",
      "1563/1563 [==============================] - 14s 9ms/step - loss: 0.0780 - accuracy: 0.9787 - val_loss: 0.0878 - val_accuracy: 0.9803\n",
      "Epoch 10/10\n",
      "1563/1563 [==============================] - 13s 8ms/step - loss: 0.0732 - accuracy: 0.9797 - val_loss: 0.0836 - val_accuracy: 0.9805\n"
     ]
    },
    {
     "data": {
      "text/plain": "<keras.callbacks.History at 0x22437525350>"
     },
     "execution_count": 28,
     "metadata": {},
     "output_type": "execute_result"
    }
   ],
   "source": [
    "# 通过fit()的callbacks参数将回调函数传入模型中，该参数接收一个回调函数列表，可以传入任意数量的回调函数。\r\n",
    "callbacks_list = [\r\n",
    "    # 如果不再改善，则中断训练\r\n",
    "    keras.callbacks.EarlyStopping(\r\n",
    "        monitor='val_accuracy',  # 监控模型的验证精度\r\n",
    "        patience=2,              # 如果精度在两轮内都不再改善，则中断训练\r\n",
    "    ),\r\n",
    "    \r\n",
    "    # 在每轮过后保存当前权重\r\n",
    "    keras.callbacks.ModelCheckpoint(\r\n",
    "        filepath='checkpoint_path.keras',  # 模型文件的保存路径\r\n",
    "        monitor='val_loss',                # 只有当val_loss改善时，才会覆盖模型文件，这样就可以一直保存训练过程中的最佳模型\r\n",
    "        save_best_only=True,\r\n",
    "    )\r\n",
    "]\r\n",
    "\r\n",
    "model = get_mnist_model()\r\n",
    "\r\n",
    "model.compile(optimizer='rmsprop', loss='sparse_categorical_crossentropy', metrics=['accuracy'])\r\n",
    "\r\n",
    "model.fit(train_images, train_labels,\r\n",
    "          epochs=10,\r\n",
    "          callbacks=callbacks_list,\r\n",
    "          validation_data=(val_images, val_labels)\r\n",
    "         )\r\n"
   ]
  },
  {
   "cell_type": "code",
   "execution_count": 29,
   "metadata": {},
   "outputs": [],
   "source": [
    "# 手动保存模型\r\n",
    "model = keras.models.load_model('checkpoint_path.keras')"
   ]
  },
  {
   "cell_type": "markdown",
   "metadata": {},
   "source": [
    "### 7.3.3 编写自定义回调函数\r\n",
    "* `on_epoch_begin(epoch, logs)`  # 在每轮开始时被调用\r\n",
    "* `on_epoch_end(epoch, logs)`    # 在每轮结束时被调用\r\n",
    "* `on_batch_begin(batch, logs)`  # 在处理每个批量之前被调用\r\n",
    "* `on_batch_end(batch, logs)`    # 在处理每个批量之后被调用\r\n",
    "* `on_train_begin(logs)`         # 在训练开始时被调用\r\n",
    "* `on_train_end(logs)`           # 在训练结束时被调用"
   ]
  },
  {
   "cell_type": "markdown",
   "metadata": {},
   "source": [
    "#### [C] 7.21 通过对callback类子类化来创建自定义回调函数"
   ]
  },
  {
   "cell_type": "code",
   "execution_count": 30,
   "metadata": {},
   "outputs": [],
   "source": [
    "from matplotlib import pyplot as plt\r\n",
    "\r\n",
    "class LossHistory(keras.callbacks.Callback):\r\n",
    "\r\n",
    "    def on_train_begin(self, logs):\r\n",
    "        self.per_batch_losses = []\r\n",
    "    \r\n",
    "    def on_batch_end(self, batch, logs):\r\n",
    "        self.per_batch_losses.append(logs.get('loss'))\r\n",
    "    \r\n",
    "    def on_epoch_end(self, epoch, logs):\r\n",
    "        plt.clf()\r\n",
    "        plt.plot(range(len(self.per_batch_losses)), self.per_batch_losses, label='Training loss for each batch')\r\n",
    "        plt.xlabel(f'Batch (epoch{epoch})')\r\n",
    "        plt.ylabel('loss')\r\n",
    "        plt.legend()\r\n",
    "        plt.savefig(f'plot_at_epoch_{epoch}')\r\n",
    "\r\n",
    "        self.per_batch_losses = []"
   ]
  },
  {
   "cell_type": "code",
   "execution_count": 31,
   "metadata": {},
   "outputs": [
    {
     "name": "stdout",
     "output_type": "stream",
     "text": [
      "Epoch 1/10\n",
      "1563/1563 [==============================] - 10s 6ms/step - loss: 0.2969 - accuracy: 0.9114 - val_loss: 0.1464 - val_accuracy: 0.9575\n",
      "Epoch 2/10\n",
      "1563/1563 [==============================] - 10s 6ms/step - loss: 0.1594 - accuracy: 0.9540 - val_loss: 0.1252 - val_accuracy: 0.9654\n",
      "Epoch 3/10\n",
      "1563/1563 [==============================] - 9s 6ms/step - loss: 0.1314 - accuracy: 0.9628 - val_loss: 0.1068 - val_accuracy: 0.9714\n",
      "Epoch 4/10\n",
      "1563/1563 [==============================] - 11s 7ms/step - loss: 0.1124 - accuracy: 0.9681 - val_loss: 0.1047 - val_accuracy: 0.9729\n",
      "Epoch 5/10\n",
      "1563/1563 [==============================] - 12s 8ms/step - loss: 0.1029 - accuracy: 0.9721 - val_loss: 0.0939 - val_accuracy: 0.9775\n",
      "Epoch 6/10\n",
      "1563/1563 [==============================] - 9s 6ms/step - loss: 0.0940 - accuracy: 0.9750 - val_loss: 0.0895 - val_accuracy: 0.9788\n",
      "Epoch 7/10\n",
      "1563/1563 [==============================] - 9s 6ms/step - loss: 0.0862 - accuracy: 0.9766 - val_loss: 0.0890 - val_accuracy: 0.9793\n",
      "Epoch 8/10\n",
      "1563/1563 [==============================] - 14s 9ms/step - loss: 0.0779 - accuracy: 0.9785 - val_loss: 0.0944 - val_accuracy: 0.9780\n",
      "Epoch 9/10\n",
      "1563/1563 [==============================] - 11s 7ms/step - loss: 0.0756 - accuracy: 0.9792 - val_loss: 0.0889 - val_accuracy: 0.9790\n",
      "Epoch 10/10\n",
      "1563/1563 [==============================] - 11s 7ms/step - loss: 0.0717 - accuracy: 0.9806 - val_loss: 0.0969 - val_accuracy: 0.9783\n"
     ]
    },
    {
     "data": {
      "text/plain": "<keras.callbacks.History at 0x2243ab37350>"
     },
     "execution_count": 31,
     "metadata": {},
     "output_type": "execute_result"
    },
    {
     "data": {
      "image/png": "[encoded data removed]",
      "text/plain": "<Figure size 640x480 with 1 Axes>"
     },
     "metadata": {},
     "output_type": "display_data"
    }
   ],
   "source": [
    "model = get_mnist_model()\r\n",
    "\r\n",
    "model.compile(optimizer='rmsprop', loss='sparse_categorical_crossentropy', metrics=['accuracy'])\r\n",
    "\r\n",
    "model.fit(train_images, train_labels,\r\n",
    "          epochs=10,\r\n",
    "          callbacks=[LossHistory()],\r\n",
    "          validation_data=(val_images, val_labels)\r\n",
    "         )"
   ]
  },
  {
   "cell_type": "markdown",
   "metadata": {},
   "source": [
    "### 7.3.4 利用TensorBoard进行监控和可视化"
   ]
  },
  {
   "cell_type": "code",
   "execution_count": 32,
   "metadata": {},
   "outputs": [
    {
     "name": "stdout",
     "output_type": "stream",
     "text": [
      "Epoch 1/10\n",
      "1563/1563 [==============================] - 12s 7ms/step - loss: 0.2951 - accuracy: 0.9134 - val_loss: 0.1528 - val_accuracy: 0.9549\n",
      "Epoch 2/10\n",
      "1563/1563 [==============================] - 11s 7ms/step - loss: 0.1636 - accuracy: 0.9531 - val_loss: 0.1098 - val_accuracy: 0.9692\n",
      "Epoch 3/10\n",
      "1563/1563 [==============================] - 11s 7ms/step - loss: 0.1317 - accuracy: 0.9634 - val_loss: 0.1047 - val_accuracy: 0.9715\n",
      "Epoch 4/10\n",
      "1563/1563 [==============================] - 13s 9ms/step - loss: 0.1157 - accuracy: 0.9680 - val_loss: 0.1007 - val_accuracy: 0.9735\n",
      "Epoch 5/10\n",
      "1563/1563 [==============================] - 12s 8ms/step - loss: 0.1029 - accuracy: 0.9710 - val_loss: 0.0982 - val_accuracy: 0.9744\n",
      "Epoch 6/10\n",
      "1563/1563 [==============================] - 10s 6ms/step - loss: 0.0932 - accuracy: 0.9746 - val_loss: 0.1021 - val_accuracy: 0.9763\n",
      "Epoch 7/10\n",
      "1563/1563 [==============================] - 10s 7ms/step - loss: 0.0895 - accuracy: 0.9754 - val_loss: 0.0912 - val_accuracy: 0.9775\n",
      "Epoch 8/10\n",
      "1563/1563 [==============================] - 10s 7ms/step - loss: 0.0845 - accuracy: 0.9769 - val_loss: 0.0934 - val_accuracy: 0.9783\n",
      "Epoch 9/10\n",
      "1563/1563 [==============================] - 11s 7ms/step - loss: 0.0767 - accuracy: 0.9803 - val_loss: 0.0935 - val_accuracy: 0.9786\n",
      "Epoch 10/10\n",
      "1563/1563 [==============================] - 11s 7ms/step - loss: 0.0720 - accuracy: 0.9807 - val_loss: 0.0909 - val_accuracy: 0.9793\n"
     ]
    },
    {
     "data": {
      "text/plain": "<keras.callbacks.History at 0x2243c386b10>"
     },
     "execution_count": 32,
     "metadata": {},
     "output_type": "execute_result"
    }
   ],
   "source": [
    "model = get_mnist_model()\r\n",
    "\r\n",
    "model.compile(optimizer='rmsprop', loss='sparse_categorical_crossentropy', metrics=['accuracy'])\r\n",
    "\r\n",
    "tensorboard = keras.callbacks.TensorBoard(log_dir='/full_path_2ur_log_dir',)\r\n",
    "\r\n",
    "model.fit(train_images, train_labels,\r\n",
    "          epochs=10,\r\n",
    "          callbacks=[tensorboard],\r\n",
    "          validation_data=(val_images, val_labels)\r\n",
    "         )"
   ]
  },
  {
   "cell_type": "markdown",
   "metadata": {},
   "source": [
    "## 7.4 编写自定义的训练循环和评估循环"
   ]
  },
  {
   "cell_type": "markdown",
   "metadata": {},
   "source": [
    "### 7.4.1 训练与推断\r\n",
    "* 可训练权重(`trainable weight`)\r\n",
    "* 不可训练权重(`non-trainable weight`)"
   ]
  },
  {
   "cell_type": "code",
   "execution_count": 33,
   "metadata": {},
   "outputs": [
    {
     "data": {
      "text/plain": "'\\ndef train_step(inputs, targets):\\n    with tf.GradientTape() as tape:\\n        predictions = model(inputs, training=True)\\n        loss        = loss_fn(targets, predictions)\\n        gradients   = tape.gradients(loss, model.trainable_weights)\\n        optimizer.apply_gradients(zip(model.trainable_weights, gradients))\\n'"
     },
     "execution_count": 33,
     "metadata": {},
     "output_type": "execute_result"
    }
   ],
   "source": [
    "# 监督学习的训练步骤如下\r\n",
    "'''\r\n",
    "def train_step(inputs, targets):\r\n",
    "    with tf.GradientTape() as tape:\r\n",
    "        predictions = model(inputs, training=True)\r\n",
    "        loss        = loss_fn(targets, predictions)\r\n",
    "        gradients   = tape.gradients(loss, model.trainable_weights)\r\n",
    "        optimizer.apply_gradients(zip(model.trainable_weights, gradients))\r\n",
    "'''"
   ]
  },
  {
   "cell_type": "markdown",
   "metadata": {},
   "source": [
    "### 7.4.2 指标的低价用法"
   ]
  },
  {
   "cell_type": "code",
   "execution_count": 34,
   "metadata": {},
   "outputs": [
    {
     "name": "stdout",
     "output_type": "stream",
     "text": [
      "result:1.00\n"
     ]
    }
   ],
   "source": [
    "metric  = keras.metrics.SparseCategoricalAccuracy()\r\n",
    "targets = [0, 1, 2]\r\n",
    "predictions = [[1, 0, 0], [0, 1, 0], [0, 0, 1]]\r\n",
    "\r\n",
    "# 对目标和预测值，批量调用update_state(y_true, y_pred)\r\n",
    "metric.update_state(targets, predictions)\r\n",
    "# 用result()查询当前指标值\r\n",
    "current_result = metric.result()\r\n",
    "\r\n",
    "print(f'result:{current_result:.2f}')"
   ]
  },
  {
   "cell_type": "code",
   "execution_count": 35,
   "metadata": {},
   "outputs": [
    {
     "name": "stdout",
     "output_type": "stream",
     "text": [
      "Mean of value [0]:0.00\n",
      "Mean of value [1]:0.50\n",
      "Mean of value [2]:1.00\n",
      "Mean of value [3]:1.50\n",
      "Mean of value [4]:2.00\n",
      "Mean of values:2.00\n"
     ]
    }
   ],
   "source": [
    "values = [0, 1, 2, 3, 4]\r\n",
    "\r\n",
    "# 跟踪某个标量值(比如模型损失)的均值\r\n",
    "mean_tracker = keras.metrics.Mean()\r\n",
    "\r\n",
    "for value in values:\r\n",
    "    mean_tracker.update_state(value)\r\n",
    "    print(f'Mean of value [{value}]:{mean_tracker.result():.2f}')\r\n",
    "\r\n",
    "print(f'Mean of values:{mean_tracker.result():.2f}')"
   ]
  },
  {
   "cell_type": "markdown",
   "metadata": {},
   "source": [
    "### 7.4.3 完整的训练循环和评估循环"
   ]
  },
  {
   "cell_type": "markdown",
   "metadata": {},
   "source": [
    "#### [C] 7.22 逐步编写训练循环:训练步骤函数  `a step-by-step training loop`"
   ]
  },
  {
   "cell_type": "code",
   "execution_count": 36,
   "metadata": {},
   "outputs": [],
   "source": [
    "model = get_mnist_model()\r\n",
    "\r\n",
    "# 准备损失函数\r\n",
    "loss_fn = keras.losses.SparseCategoricalCrossentropy()\r\n",
    "\r\n",
    "# 准备优化器\r\n",
    "optimizer = keras.optimizers.RMSprop()\r\n",
    "\r\n",
    "# 准备需监控的指标列表\r\n",
    "metrics = [keras.metrics.SparseCategoricalAccuracy()]\r\n",
    "\r\n",
    "# 准备Mean指标跟踪器来跟踪损失均值\r\n",
    "loss_tracking_metric = keras.metrics.Mean()\r\n",
    "\r\n",
    "def train_step(inputs, targets):\r\n",
    "\r\n",
    "    with tf.GradientTape() as tape:\r\n",
    "        \r\n",
    "        # 运行前向传播\r\n",
    "        predictions = model(inputs, training=True)\r\n",
    "        loss        = loss_fn(targets, predictions)\r\n",
    "    \r\n",
    "    # 运行反向传播\r\n",
    "    gradients   = tape.gradient(loss, model.trainable_weights)\r\n",
    "    optimizer.apply_gradients(zip(gradients, model.trainable_weights))\r\n",
    "\r\n",
    "    # 跟踪指标\r\n",
    "    logs = {}\r\n",
    "    for metric in metrics:\r\n",
    "        metric.update_state(targets, predictions)\r\n",
    "        logs[metric.name] = metric.result()\r\n",
    "    \r\n",
    "    # 跟踪损失均值\r\n",
    "    loss_tracking_metric.update_state(loss)\r\n",
    "    logs['loss'] = loss_tracking_metric.result()\r\n",
    "\r\n",
    "    # 返回当前的指标和损失值\r\n",
    "    return logs\r\n"
   ]
  },
  {
   "cell_type": "markdown",
   "metadata": {},
   "source": [
    "#### [C] 7.23 逐步编写训练循环:重置指标"
   ]
  },
  {
   "cell_type": "code",
   "execution_count": 37,
   "metadata": {},
   "outputs": [],
   "source": [
    "def reset_metrics():\r\n",
    "    for metric in metrics:\r\n",
    "        metric.reset_state()\r\n",
    "    \r\n",
    "    loss_tracking_metric.reset_state()"
   ]
  },
  {
   "cell_type": "markdown",
   "metadata": {},
   "source": [
    "#### [C] 7.24 逐步编写训练循环:循环本身"
   ]
  },
  {
   "cell_type": "code",
   "execution_count": 38,
   "metadata": {},
   "outputs": [
    {
     "name": "stdout",
     "output_type": "stream",
     "text": [
      "Results at the end of epoch 0\n",
      "...sparse_categorical_accuracy:0.9117\n",
      "...loss:0.2939\n",
      "Results at the end of epoch 1\n",
      "...sparse_categorical_accuracy:0.9536\n",
      "...loss:0.1614\n",
      "Results at the end of epoch 2\n",
      "...sparse_categorical_accuracy:0.9632\n",
      "...loss:0.1310\n"
     ]
    }
   ],
   "source": [
    "# 将NumPy数据转换为一个迭代器\r\n",
    "training_dataset = tf.data.Dataset.from_tensor_slices((train_images, train_labels))\r\n",
    "\r\n",
    "# 以大小为32的批量来迭代数据\r\n",
    "training_dataset = training_dataset.batch(32)\r\n",
    "\r\n",
    "epochs = 3\r\n",
    "for epoch in range(epochs):\r\n",
    "    reset_metrics()\r\n",
    "\r\n",
    "    for inputs_batch, targets_batch in training_dataset:\r\n",
    "        logs = train_step(inputs_batch, targets_batch)\r\n",
    "    \r\n",
    "    print(f'Results at the end of epoch {epoch}')\r\n",
    "\r\n",
    "    for key, value in logs.items():\r\n",
    "        print(f'...{key}:{value:.4f}')"
   ]
  },
  {
   "cell_type": "markdown",
   "metadata": {},
   "source": [
    "#### [C] 7.25 逐步编写评估循环"
   ]
  },
  {
   "cell_type": "code",
   "execution_count": 39,
   "metadata": {},
   "outputs": [
    {
     "name": "stdout",
     "output_type": "stream",
     "text": [
      "Evaluation results:\n",
      "...val_sparse_categorical_accuracy: 0.9654\n",
      "...val_loss: 0.1247\n"
     ]
    }
   ],
   "source": [
    "def test_step(inputs, targets):\r\n",
    "    predictions = model(inputs, training=False)\r\n",
    "    loss = loss_fn(targets, predictions)\r\n",
    "\r\n",
    "    logs = {}\r\n",
    "    for metric in metrics:\r\n",
    "        metric.update_state(targets, predictions)\r\n",
    "        logs[\"val_\" + metric.name] = metric.result()\r\n",
    "\r\n",
    "    loss_tracking_metric.update_state(loss)\r\n",
    "    logs[\"val_loss\"] = loss_tracking_metric.result()\r\n",
    "    \r\n",
    "    return logs\r\n",
    "\r\n",
    "val_dataset = tf.data.Dataset.from_tensor_slices((val_images, val_labels))\r\n",
    "val_dataset = val_dataset.batch(32)\r\n",
    "\r\n",
    "reset_metrics()\r\n",
    "\r\n",
    "for inputs_batch, targets_batch in val_dataset:\r\n",
    "    logs = test_step(inputs_batch, targets_batch)\r\n",
    "\r\n",
    "print(\"Evaluation results:\")\r\n",
    "\r\n",
    "for key, value in logs.items():\r\n",
    "    print(f\"...{key}: {value:.4f}\")"
   ]
  },
  {
   "cell_type": "markdown",
   "metadata": {},
   "source": [
    "### 7.4.4 利用`tf.function`加快运行速度\r\n",
    "**将TensorFlow代码编译成计算图，对该计算图进行全局优化**"
   ]
  },
  {
   "cell_type": "markdown",
   "metadata": {},
   "source": [
    "#### [C] 7.26 为评估步骤函数添加`@tf.function`装饰器(decorator)"
   ]
  },
  {
   "cell_type": "code",
   "execution_count": 40,
   "metadata": {},
   "outputs": [
    {
     "name": "stdout",
     "output_type": "stream",
     "text": [
      "Evaluation results:\n",
      "...val_sparse_categorical_accuracy: 0.9654\n",
      "...val_loss: 0.1247\n"
     ]
    }
   ],
   "source": [
    "@tf.function\r\n",
    "def test_step(inputs, targets):\r\n",
    "    predictions = model(inputs, training=False)\r\n",
    "    loss = loss_fn(targets, predictions)\r\n",
    "\r\n",
    "    logs = {}\r\n",
    "    for metric in metrics:\r\n",
    "        metric.update_state(targets, predictions)\r\n",
    "        logs[\"val_\" + metric.name] = metric.result()\r\n",
    "\r\n",
    "    loss_tracking_metric.update_state(loss)\r\n",
    "    logs[\"val_loss\"] = loss_tracking_metric.result()\r\n",
    "    \r\n",
    "    return logs\r\n",
    "\r\n",
    "val_dataset = tf.data.Dataset.from_tensor_slices((val_images, val_labels))\r\n",
    "val_dataset = val_dataset.batch(32)\r\n",
    "\r\n",
    "reset_metrics()\r\n",
    "\r\n",
    "for inputs_batch, targets_batch in val_dataset:\r\n",
    "    logs = test_step(inputs_batch, targets_batch)\r\n",
    "\r\n",
    "print(\"Evaluation results:\")\r\n",
    "\r\n",
    "for key, value in logs.items():\r\n",
    "    print(f\"...{key}: {value:.4f}\")"
   ]
  },
  {
   "cell_type": "markdown",
   "metadata": {},
   "source": [
    "### 7.4.5 在`fit()`中使用自定义训练循环\r\n",
    "* 创建一个新类，它是`keras.Model`的子类。\r\n",
    "* 覆盖`train_step(self, data)`方法，它返回一个字典，将指标名称(包括损失)映射到指标当前值。\r\n",
    "* 实现`metrics`属性，用于跟踪模型的`Metric`实例。这样模型可以在每轮开始时和调用`evaluate()`时对模型指标自动调用`reset_state()`。"
   ]
  },
  {
   "cell_type": "markdown",
   "metadata": {},
   "source": [
    "#### [C] 7.27 实现自定义训练步骤，并与`fit()`结合使用"
   ]
  },
  {
   "cell_type": "code",
   "execution_count": 41,
   "metadata": {},
   "outputs": [],
   "source": [
    "loss_fn = keras.losses.SparseCategoricalCrossentropy()\r\n",
    "\r\n",
    "# 用于跟踪训练过程和评估过程中每批数据的损失均值\r\n",
    "loss_tracker = keras.metrics.Mean(name='loss')\r\n",
    "\r\n",
    "class CustomModel(keras.Model):\r\n",
    "\r\n",
    "    # 覆盖train_step()方法\r\n",
    "    def train_step(self, data):\r\n",
    "        inputs, targets = data\r\n",
    "\r\n",
    "        with tf.GradientTape() as tape:\r\n",
    "            predictions = self(inputs, training=True)\r\n",
    "            loss = loss_fn(targets, predictions)\r\n",
    "\r\n",
    "        gradients = tape.gradient(loss, self.trainable_weights)\r\n",
    "        self.optimizer.apply_gradients(zip(gradients, self.trainable_weights))\r\n",
    "\r\n",
    "        # 更新损失跟踪指标，该指标用于跟踪损失均值\r\n",
    "        loss_tracker.update_state(loss)\r\n",
    "\r\n",
    "        # 通过查询损失跟踪器指标返回当前的损失均值\r\n",
    "        return {'loss':loss_tracker.result()}\r\n",
    "\r\n",
    "    @property\r\n",
    "    def metrics(self):\r\n",
    "        # 需要在不同轮次之间进行重置的指标\r\n",
    "        return [loss_tracker]"
   ]
  },
  {
   "cell_type": "code",
   "execution_count": 42,
   "metadata": {},
   "outputs": [
    {
     "name": "stdout",
     "output_type": "stream",
     "text": [
      "Epoch 1/3\n",
      "1563/1563 [==============================] - 8s 5ms/step - loss: 0.2902\n",
      "Epoch 2/3\n",
      "1563/1563 [==============================] - 8s 5ms/step - loss: 0.1568\n",
      "Epoch 3/3\n",
      "1563/1563 [==============================] - 9s 6ms/step - loss: 0.1300\n"
     ]
    },
    {
     "data": {
      "text/plain": "<keras.callbacks.History at 0x22441f88ad0>"
     },
     "execution_count": 42,
     "metadata": {},
     "output_type": "execute_result"
    }
   ],
   "source": [
    "inputs   = keras.Input(shape=(28 * 28))\r\n",
    "features = layers.Dense(512, activation='relu')(inputs)\r\n",
    "features = layers.Dropout(0.5)(features)\r\n",
    "outputs  = layers.Dense(10, activation='softmax')(features)\r\n",
    "\r\n",
    "model    = CustomModel(inputs, outputs)\r\n",
    "\r\n",
    "model.compile(optimizer=keras.optimizers.RMSprop())\r\n",
    "\r\n",
    "model.fit(train_images, train_labels, epochs=3)"
   ]
  },
  {
   "cell_type": "code",
   "execution_count": 43,
   "metadata": {},
   "outputs": [],
   "source": [
    "class CustomModel(keras.Model):\r\n",
    "\r\n",
    "    # 覆盖train_step()方法\r\n",
    "    def train_step(self, data):\r\n",
    "        inputs, targets = data\r\n",
    "\r\n",
    "        with tf.GradientTape() as tape:\r\n",
    "            predictions = self(inputs, training=True)\r\n",
    "            # 利用self.compiled_loss计算损失\r\n",
    "            loss = self.compiled_loss(targets, predictions)\r\n",
    "\r\n",
    "        gradients = tape.gradient(loss, self.trainable_weights)\r\n",
    "        self.optimizer.apply_gradients(zip(gradients, self.trainable_weights))\r\n",
    "        \r\n",
    "        # 通过self.compiled_metrics更新模型指标\r\n",
    "        self.compiled_metrics.update_state(targets, predictions)\r\n",
    "\r\n",
    "        # 返回一个字典，将指标名称映射为指标当前值\r\n",
    "        return {m.name:m.result() for m in self.metrics}"
   ]
  },
  {
   "cell_type": "code",
   "execution_count": 44,
   "metadata": {},
   "outputs": [
    {
     "name": "stdout",
     "output_type": "stream",
     "text": [
      "Epoch 1/3\n",
      "1563/1563 [==============================] - 11s 7ms/step - loss: 0.2975 - sparse_categorical_accuracy: 0.9121\n",
      "Epoch 2/3\n",
      "1563/1563 [==============================] - 10s 7ms/step - loss: 0.1619 - sparse_categorical_accuracy: 0.9533\n",
      "Epoch 3/3\n",
      "1563/1563 [==============================] - 10s 7ms/step - loss: 0.1327 - sparse_categorical_accuracy: 0.9637\n"
     ]
    },
    {
     "data": {
      "text/plain": "<keras.callbacks.History at 0x2243ac89810>"
     },
     "execution_count": 44,
     "metadata": {},
     "output_type": "execute_result"
    }
   ],
   "source": [
    "inputs   = keras.Input(shape=(28 * 28))\r\n",
    "features = layers.Dense(512, activation='relu')(inputs)\r\n",
    "features = layers.Dropout(0.5)(features)\r\n",
    "outputs  = layers.Dense(10, activation='softmax')(features)\r\n",
    "\r\n",
    "model    = CustomModel(inputs, outputs)\r\n",
    "\r\n",
    "model.compile(optimizer=keras.optimizers.RMSprop(),\r\n",
    "              loss=keras.losses.SparseCategoricalCrossentropy(),\r\n",
    "              metrics=[keras.metrics.SparseCategoricalAccuracy()]\r\n",
    ")\r\n",
    "\r\n",
    "model.fit(train_images, train_labels, epochs=3)"
   ]
  }
 ],
 "metadata": {
  "kernelspec": {
   "display_name": "Python 3.11.3 64-bit",
   "name": "python3113jvsc74a57bd0e842fc153c48e5d72fdba74c5fa9ec255a93a35200f85dc4905f2030a563e165"
  },
  "language_info": {
   "codemirror_mode": {
    "name": "ipython",
    "version": 3
   },
   "file_extension": ".py",
   "mimetype": "text/x-python",
   "name": "python",
   "nbconvert_exporter": "python",
   "pygments_lexer": "ipython3",
   "version": "3.11.3"
  },
  "metadata": {
   "interpreter": {
    "hash": "e842fc153c48e5d72fdba74c5fa9ec255a93a35200f85dc4905f2030a563e165"
   }
  },
  "orig_nbformat": 2
 },
 "nbformat": 4,
 "nbformat_minor": 2
}