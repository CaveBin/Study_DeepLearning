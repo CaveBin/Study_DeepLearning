{
 "cells": [
  {
   "cell_type": "markdown",
   "metadata": {},
   "source": [
    "# 适合现实世界的最佳实践\r\n",
    "---\r\n",
    "* 超参数优化\r\n",
    "* 模型集成\r\n",
    "* 混合精度训练\r\n",
    "* 在多块`GPU`或单块`TPU`上训练的`Keras`模型"
   ]
  },
  {
   "cell_type": "markdown",
   "metadata": {},
   "source": [
    "## 13.1 将模型性能发挥到极致"
   ]
  },
  {
   "cell_type": "markdown",
   "metadata": {},
   "source": [
    "### 13.1.1 超参数优化"
   ]
  },
  {
   "cell_type": "markdown",
   "metadata": {},
   "source": [
    "#### 1 使用`KerasTuner`"
   ]
  },
  {
   "cell_type": "markdown",
   "metadata": {},
   "source": [
    "##### [C] 13.1 `KerasTuner`模型构建函数"
   ]
  },
  {
   "cell_type": "code",
   "execution_count": 32,
   "metadata": {},
   "outputs": [],
   "source": [
    "from tensorflow import keras\r\n",
    "from tensorflow.keras import layers\r\n",
    "\r\n",
    "import kerastuner as kt"
   ]
  },
  {
   "cell_type": "code",
   "execution_count": 37,
   "metadata": {},
   "outputs": [],
   "source": [
    "def build_model(hp):\r\n",
    "    \r\n",
    "    units = hp.Int(name='units', min_value=16, max_value=64, step=16)\r\n",
    "\r\n",
    "    model = keras.Sequential([\r\n",
    "        layers.Dense(units, activation='relu'),\r\n",
    "        layers.Dense(10   , activation='softmax')\r\n",
    "    ])\r\n",
    "\r\n",
    "    optimizer = hp.Choice(name='optimizer', values=['rmsprop', 'adam'])\r\n",
    "    \r\n",
    "    model.compile(optimizer=optimizer, loss='sparse_categorical_crossentropy', metrics=['accuracy'])\r\n",
    "\r\n",
    "    return model"
   ]
  },
  {
   "cell_type": "markdown",
   "metadata": {},
   "source": [
    "##### [C] 13.2 `KerasTuner`的`HyperModel`"
   ]
  },
  {
   "cell_type": "code",
   "execution_count": 38,
   "metadata": {},
   "outputs": [],
   "source": [
    "class SimpleMLP(kt.HyperModel):\r\n",
    "    def __init__(self, num_classes):\r\n",
    "        self.num_classes = num_classes\r\n",
    "\r\n",
    "    def build(self, hp):\r\n",
    "        units = hp.Int(name=\"units\", min_value=16, max_value=64, step=16)\r\n",
    "        model = keras.Sequential([\r\n",
    "            layers.Dense(units, activation=\"relu\"),\r\n",
    "            layers.Dense(self.num_classes, activation=\"softmax\")\r\n",
    "        ])\r\n",
    "        \r\n",
    "        optimizer = hp.Choice(name=\"optimizer\", values=[\"rmsprop\", \"adam\"])\r\n",
    "        \r\n",
    "        model.compile(\r\n",
    "            optimizer=optimizer,\r\n",
    "            loss=\"sparse_categorical_crossentropy\",\r\n",
    "            metrics=[\"accuracy\"])\r\n",
    "        \r\n",
    "        return model\r\n",
    "\r\n",
    "hypermodel = SimpleMLP(num_classes=10)"
   ]
  },
  {
   "cell_type": "code",
   "execution_count": 39,
   "metadata": {},
   "outputs": [],
   "source": [
    "tuner = kt.BayesianOptimization(\r\n",
    "    build_model,\r\n",
    "    objective=\"val_accuracy\",\r\n",
    "    max_trials=100,\r\n",
    "    executions_per_trial=2,\r\n",
    "    directory=\"mnist_kt_test\",\r\n",
    "    overwrite=True,\r\n",
    ")"
   ]
  },
  {
   "cell_type": "code",
   "execution_count": 40,
   "metadata": {},
   "outputs": [
    {
     "name": "stdout",
     "output_type": "stream",
     "text": [
      "Search space summary\n",
      "Default search space size: 2\n",
      "units (Int)\n",
      "{'default': None, 'conditions': [], 'min_value': 16, 'max_value': 64, 'step': 16, 'sampling': 'linear'}\n",
      "optimizer (Choice)\n",
      "{'default': 'rmsprop', 'conditions': [], 'values': ['rmsprop', 'adam'], 'ordered': False}\n"
     ]
    }
   ],
   "source": [
    "tuner.search_space_summary()"
   ]
  },
  {
   "cell_type": "markdown",
   "metadata": {},
   "source": [
    "##### 目标最大化和最小化"
   ]
  },
  {
   "cell_type": "code",
   "execution_count": null,
   "metadata": {},
   "outputs": [],
   "source": [
    "objective = kt.Objective(\r\n",
    "    name='val_accuracy',  # 指标名称，会出现在每轮记录中\r\n",
    "    direction='max'       # 指标优化方向：min or max\r\n",
    ")\r\n",
    "\r\n",
    "tuner = kt.BayesianOptimization(build_model, objective=object, ...)\r\n"
   ]
  },
  {
   "cell_type": "code",
   "execution_count": 43,
   "metadata": {},
   "outputs": [
    {
     "name": "stdout",
     "output_type": "stream",
     "text": [
      "Trial 39 Complete [00h 00m 42s]\n",
      "val_accuracy: 0.9762499928474426\n",
      "\n",
      "Best val_accuracy So Far: 0.976500004529953\n",
      "Total elapsed time: 00h 29m 38s\n",
      "\n",
      "Search: Running Trial #40\n",
      "\n",
      "Value             |Best Value So Far |Hyperparameter\n",
      "64                |64                |units\n",
      "rmsprop           |rmsprop           |optimizer\n",
      "\n",
      "Epoch 1/100\n",
      "391/391 - 2s - loss: 0.4182 - accuracy: 0.8879 - val_loss: 0.2487 - val_accuracy: 0.9293 - 2s/epoch - 4ms/step\n",
      "Epoch 2/100\n",
      "391/391 - 1s - loss: 0.2221 - accuracy: 0.9372 - val_loss: 0.1796 - val_accuracy: 0.9510 - 1s/epoch - 3ms/step\n",
      "Epoch 3/100\n",
      "391/391 - 1s - loss: 0.1731 - accuracy: 0.9504 - val_loss: 0.1603 - val_accuracy: 0.9561 - 866ms/epoch - 2ms/step\n",
      "Epoch 4/100\n",
      "391/391 - 1s - loss: 0.1407 - accuracy: 0.9593 - val_loss: 0.1407 - val_accuracy: 0.9603 - 1s/epoch - 3ms/step\n",
      "Epoch 5/100\n",
      "391/391 - 1s - loss: 0.1182 - accuracy: 0.9656 - val_loss: 0.1217 - val_accuracy: 0.9659 - 1s/epoch - 3ms/step\n",
      "Epoch 6/100\n",
      "391/391 - 1s - loss: 0.1018 - accuracy: 0.9703 - val_loss: 0.1146 - val_accuracy: 0.9658 - 1s/epoch - 4ms/step\n",
      "Epoch 7/100\n",
      "391/391 - 1s - loss: 0.0898 - accuracy: 0.9744 - val_loss: 0.1092 - val_accuracy: 0.9693 - 980ms/epoch - 3ms/step\n",
      "Epoch 8/100\n",
      "391/391 - 1s - loss: 0.0795 - accuracy: 0.9773 - val_loss: 0.1081 - val_accuracy: 0.9688 - 1s/epoch - 3ms/step\n",
      "Epoch 9/100\n",
      "391/391 - 1s - loss: 0.0713 - accuracy: 0.9795 - val_loss: 0.1021 - val_accuracy: 0.9719 - 1s/epoch - 3ms/step\n",
      "Epoch 10/100\n",
      "391/391 - 1s - loss: 0.0645 - accuracy: 0.9812 - val_loss: 0.0972 - val_accuracy: 0.9723 - 955ms/epoch - 2ms/step\n",
      "Epoch 11/100\n",
      "391/391 - 1s - loss: 0.0582 - accuracy: 0.9835 - val_loss: 0.0997 - val_accuracy: 0.9725 - 1s/epoch - 3ms/step\n",
      "Epoch 12/100\n",
      "391/391 - 1s - loss: 0.0535 - accuracy: 0.9849 - val_loss: 0.0948 - val_accuracy: 0.9732 - 1s/epoch - 3ms/step\n",
      "Epoch 13/100\n",
      "391/391 - 1s - loss: 0.0489 - accuracy: 0.9863 - val_loss: 0.0915 - val_accuracy: 0.9757 - 941ms/epoch - 2ms/step\n",
      "Epoch 14/100\n",
      "391/391 - 1s - loss: 0.0450 - accuracy: 0.9874 - val_loss: 0.0982 - val_accuracy: 0.9734 - 928ms/epoch - 2ms/step\n",
      "Epoch 15/100\n",
      "391/391 - 1s - loss: 0.0413 - accuracy: 0.9887 - val_loss: 0.0959 - val_accuracy: 0.9739 - 958ms/epoch - 2ms/step\n",
      "Epoch 16/100\n",
      "391/391 - 1s - loss: 0.0380 - accuracy: 0.9896 - val_loss: 0.0938 - val_accuracy: 0.9733 - 1s/epoch - 3ms/step\n",
      "Epoch 17/100\n",
      "391/391 - 1s - loss: 0.0352 - accuracy: 0.9908 - val_loss: 0.0912 - val_accuracy: 0.9737 - 1s/epoch - 4ms/step\n",
      "Epoch 18/100\n",
      "391/391 - 1s - loss: 0.0324 - accuracy: 0.9916 - val_loss: 0.0939 - val_accuracy: 0.9742 - 1s/epoch - 4ms/step\n",
      "Epoch 19/100\n",
      "391/391 - 1s - loss: 0.0303 - accuracy: 0.9918 - val_loss: 0.0938 - val_accuracy: 0.9748 - 1s/epoch - 3ms/step\n",
      "Epoch 20/100\n",
      "391/391 - 1s - loss: 0.0273 - accuracy: 0.9929 - val_loss: 0.1010 - val_accuracy: 0.9741 - 1s/epoch - 3ms/step\n",
      "Epoch 21/100\n",
      "391/391 - 1s - loss: 0.0255 - accuracy: 0.9933 - val_loss: 0.0921 - val_accuracy: 0.9756 - 966ms/epoch - 2ms/step\n",
      "Epoch 22/100\n",
      "391/391 - 1s - loss: 0.0237 - accuracy: 0.9940 - val_loss: 0.0973 - val_accuracy: 0.9740 - 1s/epoch - 3ms/step\n",
      "Epoch 1/100\n",
      "391/391 - 2s - loss: 0.4252 - accuracy: 0.8881 - val_loss: 0.2297 - val_accuracy: 0.9377 - 2s/epoch - 4ms/step\n",
      "Epoch 2/100\n",
      "391/391 - 1s - loss: 0.2155 - accuracy: 0.9393 - val_loss: 0.1786 - val_accuracy: 0.9507 - 1s/epoch - 3ms/step\n",
      "Epoch 3/100\n",
      "391/391 - 1s - loss: 0.1663 - accuracy: 0.9526 - val_loss: 0.1487 - val_accuracy: 0.9583 - 1s/epoch - 3ms/step\n",
      "Epoch 4/100\n",
      "391/391 - 1s - loss: 0.1369 - accuracy: 0.9603 - val_loss: 0.1357 - val_accuracy: 0.9602 - 983ms/epoch - 3ms/step\n",
      "Epoch 5/100\n",
      "391/391 - 1s - loss: 0.1162 - accuracy: 0.9669 - val_loss: 0.1189 - val_accuracy: 0.9657 - 1s/epoch - 4ms/step\n",
      "Epoch 6/100\n",
      "391/391 - 1s - loss: 0.1002 - accuracy: 0.9719 - val_loss: 0.1114 - val_accuracy: 0.9676 - 1s/epoch - 3ms/step\n",
      "Epoch 7/100\n",
      "391/391 - 1s - loss: 0.0889 - accuracy: 0.9744 - val_loss: 0.1025 - val_accuracy: 0.9707 - 1s/epoch - 3ms/step\n",
      "Epoch 8/100\n",
      "391/391 - 2s - loss: 0.0781 - accuracy: 0.9781 - val_loss: 0.1005 - val_accuracy: 0.9700 - 2s/epoch - 4ms/step\n",
      "Epoch 9/100\n",
      "391/391 - 1s - loss: 0.0704 - accuracy: 0.9801 - val_loss: 0.0955 - val_accuracy: 0.9731 - 1s/epoch - 4ms/step\n",
      "Epoch 10/100\n",
      "391/391 - 1s - loss: 0.0640 - accuracy: 0.9817 - val_loss: 0.0930 - val_accuracy: 0.9736 - 1s/epoch - 4ms/step\n",
      "Epoch 11/100\n",
      "391/391 - 1s - loss: 0.0577 - accuracy: 0.9839 - val_loss: 0.0952 - val_accuracy: 0.9730 - 1s/epoch - 3ms/step\n",
      "Epoch 12/100\n",
      "391/391 - 1s - loss: 0.0524 - accuracy: 0.9853 - val_loss: 0.0888 - val_accuracy: 0.9757 - 1s/epoch - 3ms/step\n",
      "Epoch 13/100\n",
      "391/391 - 1s - loss: 0.0482 - accuracy: 0.9863 - val_loss: 0.0896 - val_accuracy: 0.9750 - 1s/epoch - 3ms/step\n",
      "Epoch 14/100\n",
      "391/391 - 1s - loss: 0.0436 - accuracy: 0.9884 - val_loss: 0.0926 - val_accuracy: 0.9748 - 1s/epoch - 3ms/step\n",
      "Epoch 15/100\n",
      "391/391 - 1s - loss: 0.0407 - accuracy: 0.9890 - val_loss: 0.0903 - val_accuracy: 0.9760 - 1s/epoch - 3ms/step\n",
      "Epoch 16/100\n",
      "391/391 - 1s - loss: 0.0370 - accuracy: 0.9902 - val_loss: 0.0861 - val_accuracy: 0.9758 - 1s/epoch - 3ms/step\n",
      "Epoch 17/100\n",
      "391/391 - 1s - loss: 0.0342 - accuracy: 0.9910 - val_loss: 0.0896 - val_accuracy: 0.9750 - 1s/epoch - 3ms/step\n",
      "Epoch 18/100\n",
      "391/391 - 1s - loss: 0.0313 - accuracy: 0.9919 - val_loss: 0.0899 - val_accuracy: 0.9756 - 1s/epoch - 3ms/step\n",
      "Epoch 19/100\n",
      "391/391 - 1s - loss: 0.0285 - accuracy: 0.9927 - val_loss: 0.0914 - val_accuracy: 0.9742 - 1s/epoch - 3ms/step\n",
      "Epoch 20/100\n",
      "391/391 - 1s - loss: 0.0265 - accuracy: 0.9932 - val_loss: 0.0929 - val_accuracy: 0.9740 - 1s/epoch - 3ms/step\n",
      "Epoch 21/100\n",
      "391/391 - 1s - loss: 0.0244 - accuracy: 0.9936 - val_loss: 0.0892 - val_accuracy: 0.9759 - 1s/epoch - 3ms/step\n",
      "Trial 40 Complete [00h 00m 52s]\n",
      "val_accuracy: 0.9758500158786774\n",
      "\n",
      "Best val_accuracy So Far: 0.976500004529953\n",
      "Total elapsed time: 00h 30m 30s\n",
      "\n",
      "Search: Running Trial #41\n",
      "\n",
      "Value             |Best Value So Far |Hyperparameter\n",
      "64                |64                |units\n",
      "rmsprop           |rmsprop           |optimizer\n",
      "\n",
      "Epoch 1/100\n",
      "391/391 - 2s - loss: 0.4232 - accuracy: 0.8866 - val_loss: 0.2254 - val_accuracy: 0.9396 - 2s/epoch - 5ms/step\n",
      "Epoch 2/100\n",
      "391/391 - 1s - loss: 0.2164 - accuracy: 0.9386 - val_loss: 0.1797 - val_accuracy: 0.9510 - 1s/epoch - 3ms/step\n",
      "Epoch 3/100\n",
      "391/391 - 1s - loss: 0.1704 - accuracy: 0.9507 - val_loss: 0.1533 - val_accuracy: 0.9562 - 1s/epoch - 3ms/step\n",
      "Epoch 4/100\n",
      "391/391 - 1s - loss: 0.1418 - accuracy: 0.9589 - val_loss: 0.1372 - val_accuracy: 0.9617 - 1s/epoch - 3ms/step\n",
      "Epoch 5/100\n",
      "391/391 - 1s - loss: 0.1206 - accuracy: 0.9655 - val_loss: 0.1306 - val_accuracy: 0.9635 - 1s/epoch - 3ms/step\n",
      "Epoch 6/100\n",
      "391/391 - 1s - loss: 0.1045 - accuracy: 0.9702 - val_loss: 0.1171 - val_accuracy: 0.9674 - 1s/epoch - 3ms/step\n",
      "Epoch 7/100\n",
      "391/391 - 1s - loss: 0.0921 - accuracy: 0.9728 - val_loss: 0.1087 - val_accuracy: 0.9693 - 1s/epoch - 3ms/step\n",
      "Epoch 8/100\n",
      "391/391 - 1s - loss: 0.0819 - accuracy: 0.9768 - val_loss: 0.1042 - val_accuracy: 0.9709 - 1s/epoch - 3ms/step\n",
      "Epoch 9/100\n",
      "391/391 - 1s - loss: 0.0744 - accuracy: 0.9787 - val_loss: 0.1026 - val_accuracy: 0.9703 - 1s/epoch - 3ms/step\n",
      "Epoch 10/100\n",
      "391/391 - 1s - loss: 0.0663 - accuracy: 0.9812 - val_loss: 0.0998 - val_accuracy: 0.9714 - 1s/epoch - 3ms/step\n",
      "Epoch 11/100\n",
      "391/391 - 1s - loss: 0.0606 - accuracy: 0.9827 - val_loss: 0.0966 - val_accuracy: 0.9722 - 1s/epoch - 3ms/step\n",
      "Epoch 12/100\n",
      "391/391 - 1s - loss: 0.0553 - accuracy: 0.9844 - val_loss: 0.0972 - val_accuracy: 0.9723 - 1s/epoch - 3ms/step\n",
      "Epoch 13/100\n",
      "391/391 - 1s - loss: 0.0511 - accuracy: 0.9853 - val_loss: 0.0952 - val_accuracy: 0.9747 - 1s/epoch - 3ms/step\n",
      "Epoch 14/100\n",
      "391/391 - 1s - loss: 0.0463 - accuracy: 0.9871 - val_loss: 0.0986 - val_accuracy: 0.9725 - 1s/epoch - 3ms/step\n",
      "Epoch 15/100\n",
      "391/391 - 1s - loss: 0.0431 - accuracy: 0.9876 - val_loss: 0.0995 - val_accuracy: 0.9729 - 1s/epoch - 3ms/step\n",
      "Epoch 16/100\n",
      "391/391 - 1s - loss: 0.0390 - accuracy: 0.9893 - val_loss: 0.0965 - val_accuracy: 0.9727 - 1s/epoch - 3ms/step\n",
      "Epoch 17/100\n",
      "391/391 - 1s - loss: 0.0356 - accuracy: 0.9902 - val_loss: 0.1005 - val_accuracy: 0.9727 - 1s/epoch - 3ms/step\n",
      "Epoch 18/100\n",
      "391/391 - 1s - loss: 0.0331 - accuracy: 0.9912 - val_loss: 0.0980 - val_accuracy: 0.9734 - 1s/epoch - 3ms/step\n",
      "Epoch 1/100\n",
      "391/391 - 2s - loss: 0.4288 - accuracy: 0.8833 - val_loss: 0.2341 - val_accuracy: 0.9323 - 2s/epoch - 4ms/step\n",
      "Epoch 2/100\n",
      "391/391 - 1s - loss: 0.2179 - accuracy: 0.9363 - val_loss: 0.1748 - val_accuracy: 0.9537 - 1s/epoch - 4ms/step\n",
      "Epoch 3/100\n",
      "391/391 - 1s - loss: 0.1686 - accuracy: 0.9505 - val_loss: 0.1585 - val_accuracy: 0.9554 - 1s/epoch - 3ms/step\n",
      "Epoch 4/100\n",
      "391/391 - 1s - loss: 0.1383 - accuracy: 0.9590 - val_loss: 0.1310 - val_accuracy: 0.9640 - 1s/epoch - 3ms/step\n",
      "Epoch 5/100\n",
      "391/391 - 1s - loss: 0.1178 - accuracy: 0.9661 - val_loss: 0.1189 - val_accuracy: 0.9677 - 1s/epoch - 4ms/step\n",
      "Epoch 6/100\n",
      "391/391 - 2s - loss: 0.1019 - accuracy: 0.9703 - val_loss: 0.1160 - val_accuracy: 0.9668 - 2s/epoch - 4ms/step\n",
      "Epoch 7/100\n",
      "391/391 - 2s - loss: 0.0896 - accuracy: 0.9742 - val_loss: 0.1095 - val_accuracy: 0.9688 - 2s/epoch - 5ms/step\n",
      "Epoch 8/100\n",
      "391/391 - 2s - loss: 0.0804 - accuracy: 0.9762 - val_loss: 0.0990 - val_accuracy: 0.9714 - 2s/epoch - 5ms/step\n",
      "Epoch 9/100\n",
      "391/391 - 2s - loss: 0.0717 - accuracy: 0.9794 - val_loss: 0.0971 - val_accuracy: 0.9717 - 2s/epoch - 4ms/step\n",
      "Epoch 10/100\n",
      "391/391 - 2s - loss: 0.0651 - accuracy: 0.9817 - val_loss: 0.0962 - val_accuracy: 0.9731 - 2s/epoch - 5ms/step\n",
      "Epoch 11/100\n",
      "391/391 - 2s - loss: 0.0593 - accuracy: 0.9836 - val_loss: 0.0924 - val_accuracy: 0.9733 - 2s/epoch - 5ms/step\n",
      "Epoch 12/100\n",
      "391/391 - 2s - loss: 0.0537 - accuracy: 0.9848 - val_loss: 0.0881 - val_accuracy: 0.9748 - 2s/epoch - 5ms/step\n",
      "Epoch 13/100\n",
      "391/391 - 2s - loss: 0.0500 - accuracy: 0.9857 - val_loss: 0.0870 - val_accuracy: 0.9745 - 2s/epoch - 4ms/step\n",
      "Epoch 14/100\n",
      "391/391 - 2s - loss: 0.0451 - accuracy: 0.9875 - val_loss: 0.0921 - val_accuracy: 0.9741 - 2s/epoch - 4ms/step\n",
      "Epoch 15/100\n"
     ]
    }
   ],
   "source": [
    "(x_train, y_train), (x_test, y_test) = keras.datasets.mnist.load_data()\r\n",
    "\r\n",
    "x_train = x_train.reshape((-1, 28 * 28)).astype('float32') / 255\r\n",
    "x_test  = x_test.reshape((-1, 28 * 28)).astype('float32') / 255\r\n",
    "\r\n",
    "x_train_full = x_train[:]\r\n",
    "y_train_full = y_train[:]\r\n",
    "\r\n",
    "num_val_samples = 10000\r\n",
    "\r\n",
    "x_train, x_val = x_train[:-num_val_samples], x_train[-num_val_samples:]\r\n",
    "y_train, y_val = y_train[:-num_val_samples], y_train[-num_val_samples:]\r\n",
    "\r\n",
    "callbacks = [keras.callbacks.EarlyStopping(monitor='val_loss', patience=5)]\r\n",
    "\r\n",
    "tuner.search(x_train, y_train, batch_size=128, \r\n",
    "             epochs=100, \r\n",
    "             validation_data=(x_val,y_val), \r\n",
    "             callbacks=callbacks, \r\n",
    "             verbose=2\r\n",
    "            )"
   ]
  },
  {
   "cell_type": "markdown",
   "metadata": {},
   "source": [
    "##### [C] 13.3 查询最佳超参数配置"
   ]
  },
  {
   "cell_type": "code",
   "execution_count": 41,
   "metadata": {},
   "outputs": [],
   "source": [
    "top_n = 4\r\n",
    "best_hps = tuner.get_best_hyperparameters(top_n)"
   ]
  },
  {
   "cell_type": "code",
   "execution_count": null,
   "metadata": {},
   "outputs": [],
   "source": [
    "def get_best_epoch(hp):\r\n",
    "    \r\n",
    "    model = build_model(hp)\r\n",
    "    \r\n",
    "    callbacks=[\r\n",
    "        keras.callbacks.EarlyStopping(\r\n",
    "            monitor=\"val_loss\", mode=\"min\", patience=10)\r\n",
    "    ]\r\n",
    "    \r\n",
    "    history = model.fit(\r\n",
    "        x_train, y_train,\r\n",
    "        validation_data=(x_val, y_val),\r\n",
    "        epochs=100,\r\n",
    "        batch_size=128,\r\n",
    "        callbacks=callbacks)\r\n",
    "    \r\n",
    "    val_loss_per_epoch = history.history[\"val_loss\"]\r\n",
    "    \r\n",
    "    best_epoch = val_loss_per_epoch.index(min(val_loss_per_epoch)) + 1\r\n",
    "    \r\n",
    "    print(f\"Best epoch: {best_epoch}\")\r\n",
    "    \r\n",
    "    return best_epoch"
   ]
  },
  {
   "cell_type": "code",
   "execution_count": null,
   "metadata": {},
   "outputs": [],
   "source": [
    "def get_best_trained_model(hp):\r\n",
    "    \r\n",
    "    best_epoch = get_best_epoch(hp)\r\n",
    "    \r\n",
    "    model.fit(\r\n",
    "        x_train_full, y_train_full,\r\n",
    "        batch_size=128, epochs=int(best_epoch * 1.2))\r\n",
    "    \r\n",
    "    return model\r\n",
    "\r\n",
    "best_models = []\r\n",
    "\r\n",
    "for hp in best_hps:\r\n",
    "    model = get_best_trained_model(hp)\r\n",
    "    model.evaluate(x_test, y_test)\r\n",
    "    best_models.append(model)"
   ]
  },
  {
   "cell_type": "code",
   "execution_count": null,
   "metadata": {},
   "outputs": [],
   "source": [
    "best_models = tuner.get_best_models(top_n)"
   ]
  },
  {
   "cell_type": "markdown",
   "metadata": {},
   "source": [
    "#### 2 构建搜索空间的艺术"
   ]
  },
  {
   "cell_type": "markdown",
   "metadata": {},
   "source": [
    "#### 3 超参数优化的未来：自动化机器学习"
   ]
  },
  {
   "cell_type": "markdown",
   "metadata": {},
   "source": [
    "### 13.1.2 模型集成"
   ]
  },
  {
   "cell_type": "markdown",
   "metadata": {},
   "source": [
    "## 13.2 加速模型训练"
   ]
  },
  {
   "cell_type": "markdown",
   "metadata": {},
   "source": [
    "### 13.2.1 使用混合精度加快`GPU`上的训练速度"
   ]
  },
  {
   "cell_type": "markdown",
   "metadata": {},
   "source": [
    "#### 1 理解浮点数精度"
   ]
  },
  {
   "cell_type": "code",
   "execution_count": 1,
   "metadata": {},
   "outputs": [
    {
     "data": {
      "text/plain": "tf.float64"
     },
     "execution_count": 1,
     "metadata": {},
     "output_type": "execute_result"
    }
   ],
   "source": [
    "import tensorflow as tf\r\n",
    "import numpy as np\r\n",
    "\r\n",
    "np_array = np.zeros((2, 2))\r\n",
    "tf_tensor = tf.convert_to_tensor(np_array)\r\n",
    "tf_tensor.dtype"
   ]
  },
  {
   "cell_type": "code",
   "execution_count": 2,
   "metadata": {},
   "outputs": [
    {
     "data": {
      "text/plain": "tf.float32"
     },
     "execution_count": 2,
     "metadata": {},
     "output_type": "execute_result"
    }
   ],
   "source": [
    "np_array  = np.zeros((2, 2))\r\n",
    "tf_tensor = tf.convert_to_tensor(np_array, dtype=\"float32\")\r\n",
    "tf_tensor.dtype"
   ]
  },
  {
   "cell_type": "markdown",
   "metadata": {},
   "source": [
    "#### 2 混合精度训练的实践"
   ]
  },
  {
   "cell_type": "code",
   "execution_count": 3,
   "metadata": {},
   "outputs": [
    {
     "name": "stdout",
     "output_type": "stream",
     "text": [
      "WARNING:tensorflow:Mixed precision compatibility check (mixed_float16): WARNING\n",
      "The dtype policy mixed_float16 may run slowly because this machine does not have a GPU. Only Nvidia GPUs with compute capability of at least 7.0 run quickly with mixed_float16.\n",
      "If you will use compatible GPU(s) not attached to this host, e.g. by running a multi-worker model, you can ignore this warning. This message will only be logged once\n"
     ]
    }
   ],
   "source": [
    "from tensorflow import keras\r\n",
    "keras.mixed_precision.set_global_policy(\"mixed_float16\")"
   ]
  },
  {
   "cell_type": "markdown",
   "metadata": {},
   "source": [
    "### 13.2.2 多`GPU`训练"
   ]
  },
  {
   "cell_type": "markdown",
   "metadata": {},
   "source": [
    "#### 1 获得两块或多块`GPU`"
   ]
  },
  {
   "cell_type": "markdown",
   "metadata": {},
   "source": [
    "#### 2 单主机、多设备同步训练"
   ]
  },
  {
   "cell_type": "code",
   "execution_count": 4,
   "metadata": {},
   "outputs": [
    {
     "name": "stdout",
     "output_type": "stream",
     "text": [
      "WARNING:tensorflow:There are non-GPU devices in `tf.distribute.Strategy`, not using nccl allreduce.\n",
      "INFO:tensorflow:Using MirroredStrategy with devices ('/job:localhost/replica:0/task:0/device:CPU:0',)\n",
      "Number of devices:1\n"
     ]
    }
   ],
   "source": [
    "strategy = tf.distribute.MirroredStrategy()  # 创建一个分布式策略对象\r\n",
    "print(f'Number of devices:{strategy.num_replicas_in_sync}')\r\n",
    "\r\n",
    "with strategy.scope():  # 开启策略作用域\r\n",
    "    model = get_compiled_model()\r\n",
    "    model.fit(train_dataset,\r\n",
    "              epochs=100,\r\n",
    "              validation_data=val_dataset,\r\n",
    "              callbacks=callbacks\r\n",
    "             )"
   ]
  },
  {
   "cell_type": "markdown",
   "metadata": {},
   "source": [
    "### 13.2.3 `TPU`训练"
   ]
  },
  {
   "cell_type": "markdown",
   "metadata": {},
   "source": [
    "#### 1 通过谷歌`Colab`使用`TPU`"
   ]
  },
  {
   "cell_type": "code",
   "execution_count": null,
   "metadata": {},
   "outputs": [],
   "source": [
    "import tensorflow as tf\r\n",
    "\r\n",
    "tpu = tf.distribute.cluster_resolver.TPUClusterResolver.connect()\r\n",
    "\r\n",
    "print('Device:', tpu.master())"
   ]
  },
  {
   "cell_type": "markdown",
   "metadata": {},
   "source": [
    "##### [C] 13.4 在`TPUStrategy`作用域中构建模型"
   ]
  },
  {
   "cell_type": "code",
   "execution_count": null,
   "metadata": {},
   "outputs": [],
   "source": [
    "from tensorflow import keras\r\n",
    "from tensorflow.keras import layers\r\n",
    "\r\n",
    "strategy = tf.distribute.TPUStrategy(tpu)\r\n",
    "print(f'Number of replicas:{stragy.num_replicas_in_sync}')"
   ]
  },
  {
   "cell_type": "markdown",
   "metadata": {},
   "source": [
    "#### 2 利用步骤融合来提高`TPU`利用率"
   ]
  }
 ],
 "metadata": {
  "kernelspec": {
   "display_name": "Python 3.11.3 64-bit",
   "name": "python3113jvsc74a57bd0e842fc153c48e5d72fdba74c5fa9ec255a93a35200f85dc4905f2030a563e165"
  },
  "language_info": {
   "codemirror_mode": {
    "name": "ipython",
    "version": 3
   },
   "file_extension": ".py",
   "mimetype": "text/x-python",
   "name": "python",
   "nbconvert_exporter": "python",
   "pygments_lexer": "ipython3",
   "version": "3.11.3"
  },
  "metadata": {
   "interpreter": {
    "hash": "e842fc153c48e5d72fdba74c5fa9ec255a93a35200f85dc4905f2030a563e165"
   }
  },
  "orig_nbformat": 2
 },
 "nbformat": 4,
 "nbformat_minor": 2
}