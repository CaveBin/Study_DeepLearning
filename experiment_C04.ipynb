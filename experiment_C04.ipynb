{
 "cells": [
  {
   "cell_type": "markdown",
   "metadata": {},
   "source": [
    "# 神经网络入门:分类与回归"
   ]
  },
  {
   "cell_type": "markdown",
   "metadata": {},
   "source": [
    "## 4.1 二分类问题 binary classification"
   ]
  },
  {
   "cell_type": "markdown",
   "metadata": {},
   "source": [
    "### 4.1 加载IMDB数据集\r\n",
    "`互联网电影数据库`"
   ]
  },
  {
   "cell_type": "code",
   "execution_count": 2,
   "metadata": {},
   "outputs": [],
   "source": [
    "from tensorflow.keras.datasets import imdb\r\n",
    "(train_data, train_lables), (test_data, test_lables) = imdb.load_data(num_words=10000)"
   ]
  },
  {
   "cell_type": "code",
   "execution_count": 3,
   "metadata": {},
   "outputs": [
    {
     "data": {
      "text/plain": "[1,\n 14,\n 22,\n 16,\n 43,\n 530,\n 973,\n 1622,\n 1385,\n 65,\n 458,\n 4468,\n 66,\n 3941,\n 4,\n 173,\n 36,\n 256,\n 5,\n 25,\n 100,\n 43,\n 838,\n 112,\n 50,\n 670,\n 2,\n 9,\n 35,\n 480,\n 284,\n 5,\n 150,\n 4,\n 172,\n 112,\n 167,\n 2,\n 336,\n 385,\n 39,\n 4,\n 172,\n 4536,\n 1111,\n 17,\n 546,\n 38,\n 13,\n 447,\n 4,\n 192,\n 50,\n 16,\n 6,\n 147,\n 2025,\n 19,\n 14,\n 22,\n 4,\n 1920,\n 4613,\n 469,\n 4,\n 22,\n 71,\n 87,\n 12,\n 16,\n 43,\n 530,\n 38,\n 76,\n 15,\n 13,\n 1247,\n 4,\n 22,\n 17,\n 515,\n 17,\n 12,\n 16,\n 626,\n 18,\n 2,\n 5,\n 62,\n 386,\n 12,\n 8,\n 316,\n 8,\n 106,\n 5,\n 4,\n 2223,\n 5244,\n 16,\n 480,\n 66,\n 3785,\n 33,\n 4,\n 130,\n 12,\n 16,\n 38,\n 619,\n 5,\n 25,\n 124,\n 51,\n 36,\n 135,\n 48,\n 25,\n 1415,\n 33,\n 6,\n 22,\n 12,\n 215,\n 28,\n 77,\n 52,\n 5,\n 14,\n 407,\n 16,\n 82,\n 2,\n 8,\n 4,\n 107,\n 117,\n 5952,\n 15,\n 256,\n 4,\n 2,\n 7,\n 3766,\n 5,\n 723,\n 36,\n 71,\n 43,\n 530,\n 476,\n 26,\n 400,\n 317,\n 46,\n 7,\n 4,\n 2,\n 1029,\n 13,\n 104,\n 88,\n 4,\n 381,\n 15,\n 297,\n 98,\n 32,\n 2071,\n 56,\n 26,\n 141,\n 6,\n 194,\n 7486,\n 18,\n 4,\n 226,\n 22,\n 21,\n 134,\n 476,\n 26,\n 480,\n 5,\n 144,\n 30,\n 5535,\n 18,\n 51,\n 36,\n 28,\n 224,\n 92,\n 25,\n 104,\n 4,\n 226,\n 65,\n 16,\n 38,\n 1334,\n 88,\n 12,\n 16,\n 283,\n 5,\n 16,\n 4472,\n 113,\n 103,\n 32,\n 15,\n 16,\n 5345,\n 19,\n 178,\n 32]"
     },
     "execution_count": 3,
     "metadata": {},
     "output_type": "execute_result"
    }
   ],
   "source": [
    "train_data[0]"
   ]
  },
  {
   "cell_type": "code",
   "execution_count": 4,
   "metadata": {},
   "outputs": [
    {
     "data": {
      "text/plain": "1"
     },
     "execution_count": 4,
     "metadata": {},
     "output_type": "execute_result"
    }
   ],
   "source": [
    "train_lables[0]"
   ]
  },
  {
   "cell_type": "code",
   "execution_count": 5,
   "metadata": {},
   "outputs": [
    {
     "data": {
      "text/plain": "9999"
     },
     "execution_count": 5,
     "metadata": {},
     "output_type": "execute_result"
    }
   ],
   "source": [
    "max([max(sequence) for sequence in train_data])"
   ]
  },
  {
   "cell_type": "markdown",
   "metadata": {},
   "source": [
    "### 4.2 将评论解码为文本"
   ]
  },
  {
   "cell_type": "code",
   "execution_count": 6,
   "metadata": {},
   "outputs": [],
   "source": [
    "# word_index 是一个将单词映射为整数索引的字典\r\n",
    "word_index = imdb.get_word_index()\r\n",
    "\r\n",
    "# 将字典的键和值交换, 将整数索引映射为单词\r\n",
    "reverse_word_index = dict([(value, key) for (key, value) in word_index.items()])\r\n",
    "# 对评论区解码。\r\n",
    "# 注意：索引减去了3, 因为 0:padding; 1:start of sequence; 2:unknown.\r\n",
    "decoded_review = \" \".join([reverse_word_index.get(i - 3, \"?\") for i in train_data[0]])"
   ]
  },
  {
   "cell_type": "markdown",
   "metadata": {},
   "source": [
    "### 4.3 用multi-hot编码对整数序列进行编码"
   ]
  },
  {
   "cell_type": "code",
   "execution_count": 7,
   "metadata": {},
   "outputs": [],
   "source": [
    "import numpy as np\r\n",
    "\r\n",
    "def vectorize_sequences(sequences, dimension=10000):\r\n",
    "    # 创建一个形状为(len(sequences), dimension)的零矩阵\r\n",
    "    results = np.zeros((len(sequences), dimension))\r\n",
    "\r\n",
    "    for i, sequences in enumerate(sequences):\r\n",
    "        for j in sequences:\r\n",
    "            # 将result[i]某些索引对应的值设为1\r\n",
    "            results[i, j] = 1\r\n",
    "    \r\n",
    "    return results\r\n",
    "\r\n",
    "# 将训练数据向量化\r\n",
    "x_train = vectorize_sequences(train_data)\r\n",
    "# 将测试数据向量化\r\n",
    "x_test  = vectorize_sequences(test_data)"
   ]
  },
  {
   "cell_type": "code",
   "execution_count": 8,
   "metadata": {},
   "outputs": [
    {
     "data": {
      "text/plain": "array([0., 1., 1., ..., 0., 0., 0.])"
     },
     "execution_count": 8,
     "metadata": {},
     "output_type": "execute_result"
    }
   ],
   "source": [
    "x_train[0]"
   ]
  },
  {
   "cell_type": "code",
   "execution_count": 9,
   "metadata": {},
   "outputs": [],
   "source": [
    "# 将标签向量化\r\n",
    "y_train = np.asarray(train_lables).astype(\"float32\")\r\n",
    "y_test  = np.asarray(test_lables).astype(\"float32\")"
   ]
  },
  {
   "cell_type": "markdown",
   "metadata": {},
   "source": [
    "### 4.4 模型定义"
   ]
  },
  {
   "cell_type": "code",
   "execution_count": 10,
   "metadata": {},
   "outputs": [],
   "source": [
    "from tensorflow import keras\r\n",
    "from tensorflow.keras import layers\r\n",
    "\r\n",
    "# 两个中间层, 每层16个单元\r\n",
    "# 第三层输出一个标量预测值, 代表当前评论的情感类别\r\n",
    "model = keras.Sequential([\r\n",
    "    layers.Dense(16, activation=\"relu\"),    # output = relu(dot(input, W) + b)\r\n",
    "    layers.Dense(16, activation=\"relu\"),\r\n",
    "    layers.Dense(1,  activation=\"sigmoid\")\r\n",
    "])"
   ]
  },
  {
   "cell_type": "markdown",
   "metadata": {},
   "source": [
    "### 4.5 编译模型"
   ]
  },
  {
   "cell_type": "code",
   "execution_count": 11,
   "metadata": {},
   "outputs": [],
   "source": [
    "model.compile(optimizer=\"rmsprop\",\r\n",
    "                loss=\"binary_crossentropy\",\r\n",
    "                metrics=[\"accuracy\"])"
   ]
  },
  {
   "cell_type": "markdown",
   "metadata": {},
   "source": [
    "### 4.6 留出验证集"
   ]
  },
  {
   "cell_type": "code",
   "execution_count": 12,
   "metadata": {},
   "outputs": [],
   "source": [
    "x_val = x_train[:10000]\r\n",
    "partial_x_train = x_train[10000:]\r\n",
    "y_val = y_train[:10000]\r\n",
    "partial_y_train = y_train[10000:]"
   ]
  },
  {
   "cell_type": "markdown",
   "metadata": {},
   "source": [
    "### 4.7 训练模型"
   ]
  },
  {
   "cell_type": "code",
   "execution_count": 13,
   "metadata": {},
   "outputs": [
    {
     "name": "stdout",
     "output_type": "stream",
     "text": [
      "Epoch 1/20\n",
      "30/30 [==============================] - 1s 26ms/step - loss: 0.5482 - accuracy: 0.7684 - val_loss: 0.4198 - val_accuracy: 0.8584\n",
      "Epoch 2/20\n",
      "30/30 [==============================] - 1s 18ms/step - loss: 0.3420 - accuracy: 0.8917 - val_loss: 0.3352 - val_accuracy: 0.8721\n",
      "Epoch 3/20\n",
      "30/30 [==============================] - 1s 19ms/step - loss: 0.2579 - accuracy: 0.9134 - val_loss: 0.2882 - val_accuracy: 0.8900\n",
      "Epoch 4/20\n",
      "30/30 [==============================] - 0s 14ms/step - loss: 0.2065 - accuracy: 0.9315 - val_loss: 0.2816 - val_accuracy: 0.8861\n",
      "Epoch 5/20\n",
      "30/30 [==============================] - 0s 13ms/step - loss: 0.1743 - accuracy: 0.9444 - val_loss: 0.2763 - val_accuracy: 0.8884\n",
      "Epoch 6/20\n",
      "30/30 [==============================] - 1s 19ms/step - loss: 0.1491 - accuracy: 0.9523 - val_loss: 0.3158 - val_accuracy: 0.8783\n",
      "Epoch 7/20\n",
      "30/30 [==============================] - 1s 20ms/step - loss: 0.1269 - accuracy: 0.9618 - val_loss: 0.2937 - val_accuracy: 0.8850\n",
      "Epoch 8/20\n",
      "30/30 [==============================] - 0s 17ms/step - loss: 0.1148 - accuracy: 0.9643 - val_loss: 0.3034 - val_accuracy: 0.8848\n",
      "Epoch 9/20\n",
      "30/30 [==============================] - 1s 18ms/step - loss: 0.0920 - accuracy: 0.9761 - val_loss: 0.3153 - val_accuracy: 0.8829\n",
      "Epoch 10/20\n",
      "30/30 [==============================] - 1s 20ms/step - loss: 0.0856 - accuracy: 0.9754 - val_loss: 0.3304 - val_accuracy: 0.8774\n",
      "Epoch 11/20\n",
      "30/30 [==============================] - 0s 13ms/step - loss: 0.0717 - accuracy: 0.9817 - val_loss: 0.3534 - val_accuracy: 0.8793\n",
      "Epoch 12/20\n",
      "30/30 [==============================] - 1s 18ms/step - loss: 0.0617 - accuracy: 0.9851 - val_loss: 0.3797 - val_accuracy: 0.8708\n",
      "Epoch 13/20\n",
      "30/30 [==============================] - 1s 18ms/step - loss: 0.0524 - accuracy: 0.9881 - val_loss: 0.4111 - val_accuracy: 0.8735\n",
      "Epoch 14/20\n",
      "30/30 [==============================] - 0s 16ms/step - loss: 0.0462 - accuracy: 0.9908 - val_loss: 0.4075 - val_accuracy: 0.8765\n",
      "Epoch 15/20\n",
      "30/30 [==============================] - 0s 13ms/step - loss: 0.0390 - accuracy: 0.9922 - val_loss: 0.4398 - val_accuracy: 0.8680\n",
      "Epoch 16/20\n",
      "30/30 [==============================] - 0s 12ms/step - loss: 0.0313 - accuracy: 0.9950 - val_loss: 0.4532 - val_accuracy: 0.8706\n",
      "Epoch 17/20\n",
      "30/30 [==============================] - 0s 14ms/step - loss: 0.0291 - accuracy: 0.9947 - val_loss: 0.4689 - val_accuracy: 0.8713\n",
      "Epoch 18/20\n",
      "30/30 [==============================] - 0s 15ms/step - loss: 0.0219 - accuracy: 0.9971 - val_loss: 0.4922 - val_accuracy: 0.8708\n",
      "Epoch 19/20\n",
      "30/30 [==============================] - 1s 18ms/step - loss: 0.0233 - accuracy: 0.9953 - val_loss: 0.5224 - val_accuracy: 0.8666\n",
      "Epoch 20/20\n",
      "30/30 [==============================] - 0s 11ms/step - loss: 0.0149 - accuracy: 0.9987 - val_loss: 0.6210 - val_accuracy: 0.8603\n"
     ]
    }
   ],
   "source": [
    "# 使用由512个样本组成的小批量，对模型训练20轮\r\n",
    "history = model.fit(\r\n",
    "    partial_x_train,\r\n",
    "    partial_y_train,\r\n",
    "    epochs=20,\r\n",
    "    batch_size=512,\r\n",
    "    validation_data=(x_val, y_val)\r\n",
    ")"
   ]
  },
  {
   "cell_type": "code",
   "execution_count": 14,
   "metadata": {},
   "outputs": [
    {
     "data": {
      "text/plain": "dict_keys(['loss', 'accuracy', 'val_loss', 'val_accuracy'])"
     },
     "execution_count": 14,
     "metadata": {},
     "output_type": "execute_result"
    }
   ],
   "source": [
    "history_dict = history.history\r\n",
    "history_dict.keys()  # 包含4个条目 ['loss', 'accuracy', 'val_loss', 'val_accuracy']"
   ]
  },
  {
   "cell_type": "markdown",
   "metadata": {},
   "source": [
    "### 4.8 绘制训练损失和验证损失"
   ]
  },
  {
   "cell_type": "code",
   "execution_count": 15,
   "metadata": {},
   "outputs": [
    {
     "data": {
      "image/png": "[encoded data removed]",
      "text/plain": "<Figure size 640x480 with 1 Axes>"
     },
     "metadata": {},
     "output_type": "display_data"
    }
   ],
   "source": [
    "import matplotlib.pyplot as plt\r\n",
    "\r\n",
    "history_dict = history.history\r\n",
    "loss_values  = history_dict[\"loss\"]\r\n",
    "val_loss_values = history_dict[\"val_loss\"]\r\n",
    "epochs = range(1, len(loss_values) + 1)\r\n",
    "\r\n",
    "plt.plot(epochs, loss_values,     \"ro\", label=\"Training loss\")\r\n",
    "plt.plot(epochs, val_loss_values, \"b\",  label=\"Validation loss\")\r\n",
    "\r\n",
    "plt.title(\"Training and Validation loss\")\r\n",
    "plt.xlabel(\"Epochs\")\r\n",
    "plt.ylabel(\"Loss\")\r\n",
    "plt.legend()\r\n",
    "plt.show()"
   ]
  },
  {
   "cell_type": "markdown",
   "metadata": {},
   "source": [
    "### 4.9 绘制训练精度和验证精度"
   ]
  },
  {
   "cell_type": "code",
   "execution_count": 16,
   "metadata": {},
   "outputs": [
    {
     "data": {
      "image/png": "[encoded data removed]",
      "text/plain": "<Figure size 640x480 with 1 Axes>"
     },
     "metadata": {},
     "output_type": "display_data"
    }
   ],
   "source": [
    "plt.clf()  # 清空图像\r\n",
    "acc     = history_dict[\"accuracy\"]\r\n",
    "val_acc = history_dict[\"val_accuracy\"]\r\n",
    "\r\n",
    "plt.plot(epochs, acc,     \"ro\", label=\"Training acc\")\r\n",
    "plt.plot(epochs, val_acc, \"b\",  label=\"Validation acc\")\r\n",
    "\r\n",
    "plt.title(\"Training and Validation accuracy\")\r\n",
    "plt.xlabel(\"Epochs\")\r\n",
    "plt.ylabel(\"Accuracy\")\r\n",
    "plt.legend()\r\n",
    "plt.show()"
   ]
  },
  {
   "cell_type": "markdown",
   "metadata": {},
   "source": [
    "**训练损失每轮都在减少，训练精度每轮都在提高。需要值得关注的是：模型在训练数据上的表现越来越好，但在前所未见的数据上不一定表现得越来越好。**\r\n",
    "**出现了过拟合（overfit）**"
   ]
  },
  {
   "cell_type": "markdown",
   "metadata": {},
   "source": [
    "### 4.10 从头开始训练一个模型"
   ]
  },
  {
   "cell_type": "code",
   "execution_count": 17,
   "metadata": {},
   "outputs": [
    {
     "name": "stdout",
     "output_type": "stream",
     "text": [
      "Epoch 1/4\n",
      "49/49 [==============================] - 1s 8ms/step - loss: 0.4520 - accuracy: 0.8115\n",
      "Epoch 2/4\n",
      "49/49 [==============================] - 1s 11ms/step - loss: 0.2696 - accuracy: 0.9041\n",
      "Epoch 3/4\n",
      "49/49 [==============================] - 1s 12ms/step - loss: 0.2096 - accuracy: 0.9248\n",
      "Epoch 4/4\n",
      "49/49 [==============================] - 1s 14ms/step - loss: 0.1797 - accuracy: 0.9355\n",
      "782/782 [==============================] - 2s 3ms/step - loss: 0.3043 - accuracy: 0.8775\n"
     ]
    }
   ],
   "source": [
    "model = keras.Sequential([\r\n",
    "    layers.Dense(16, activation='relu'),\r\n",
    "    layers.Dense(16, activation='relu'),\r\n",
    "    layers.Dense(1 , activation='sigmoid'),\r\n",
    "])\r\n",
    "\r\n",
    "model.compile(optimizer='rmsprop',\r\n",
    "              loss='binary_crossentropy',\r\n",
    "              metrics=['accuracy'])\r\n",
    "\r\n",
    "model.fit(x_train, y_train, epochs=4, batch_size=512)\r\n",
    "\r\n",
    "results = model.evaluate(x_test, y_test)"
   ]
  },
  {
   "cell_type": "code",
   "execution_count": 18,
   "metadata": {},
   "outputs": [
    {
     "data": {
      "text/plain": "[0.3042604625225067, 0.8774799704551697]"
     },
     "execution_count": 18,
     "metadata": {},
     "output_type": "execute_result"
    }
   ],
   "source": [
    "results\r\n",
    "\r\n",
    "# [0.30818453431129456, 0.8758000135421753]\r\n",
    "# [测试损失, 测试精度]"
   ]
  },
  {
   "cell_type": "code",
   "execution_count": 19,
   "metadata": {},
   "outputs": [
    {
     "name": "stdout",
     "output_type": "stream",
     "text": [
      "782/782 [==============================] - 1s 1ms/step\n"
     ]
    },
    {
     "data": {
      "text/plain": "array([[0.14445238],\n       [0.9995615 ],\n       [0.7178572 ],\n       ...,\n       [0.06725901],\n       [0.06538939],\n       [0.4351249 ]], dtype=float32)"
     },
     "execution_count": 19,
     "metadata": {},
     "output_type": "execute_result"
    }
   ],
   "source": [
    "# 预测\r\n",
    "model.predict(x_test)"
   ]
  },
  {
   "cell_type": "markdown",
   "metadata": {},
   "source": [
    "## 4.2 多分类问题 multiclass classification"
   ]
  },
  {
   "cell_type": "markdown",
   "metadata": {},
   "source": [
    "### 4.11 加载路透社数据集\r\n",
    "`reuters`"
   ]
  },
  {
   "cell_type": "code",
   "execution_count": 20,
   "metadata": {},
   "outputs": [],
   "source": [
    "from tensorflow.keras.datasets import reuters\r\n",
    "\r\n",
    "(train_data, train_labels), (test_data, test_labels) = reuters.load_data(num_words=10000)"
   ]
  },
  {
   "cell_type": "code",
   "execution_count": 21,
   "metadata": {},
   "outputs": [
    {
     "data": {
      "text/plain": "8982"
     },
     "execution_count": 21,
     "metadata": {},
     "output_type": "execute_result"
    }
   ],
   "source": [
    "# 8982个训练样本\r\n",
    "len(train_data)"
   ]
  },
  {
   "cell_type": "code",
   "execution_count": 22,
   "metadata": {},
   "outputs": [
    {
     "data": {
      "text/plain": "2246"
     },
     "execution_count": 22,
     "metadata": {},
     "output_type": "execute_result"
    }
   ],
   "source": [
    "# 2246个测试样本\r\n",
    "len(test_data)"
   ]
  },
  {
   "cell_type": "code",
   "execution_count": 23,
   "metadata": {},
   "outputs": [
    {
     "data": {
      "text/plain": "[1,\n 2,\n 2,\n 8,\n 43,\n 10,\n 447,\n 5,\n 25,\n 207,\n 270,\n 5,\n 3095,\n 111,\n 16,\n 369,\n 186,\n 90,\n 67,\n 7,\n 89,\n 5,\n 19,\n 102,\n 6,\n 19,\n 124,\n 15,\n 90,\n 67,\n 84,\n 22,\n 482,\n 26,\n 7,\n 48,\n 4,\n 49,\n 8,\n 864,\n 39,\n 209,\n 154,\n 6,\n 151,\n 6,\n 83,\n 11,\n 15,\n 22,\n 155,\n 11,\n 15,\n 7,\n 48,\n 9,\n 4579,\n 1005,\n 504,\n 6,\n 258,\n 6,\n 272,\n 11,\n 15,\n 22,\n 134,\n 44,\n 11,\n 15,\n 16,\n 8,\n 197,\n 1245,\n 90,\n 67,\n 52,\n 29,\n 209,\n 30,\n 32,\n 132,\n 6,\n 109,\n 15,\n 17,\n 12]"
     },
     "execution_count": 23,
     "metadata": {},
     "output_type": "execute_result"
    }
   ],
   "source": [
    "train_data[0]"
   ]
  },
  {
   "cell_type": "markdown",
   "metadata": {},
   "source": [
    "### 4.12 将新闻解码为文本"
   ]
  },
  {
   "cell_type": "code",
   "execution_count": 24,
   "metadata": {},
   "outputs": [],
   "source": [
    "word_index = reuters.get_word_index()\r\n",
    "reverse_word_index = dict([(value, key) for (key, value) in word_index.items()])\r\n",
    "# 注意：索引减去了3, 因为 0:padding; 1:start of sequence; 2:unknown.\r\n",
    "decoded_newswire = \" \".join([reverse_word_index.get(i - 3, \"?\") for i in train_data[0]])"
   ]
  },
  {
   "cell_type": "code",
   "execution_count": 25,
   "metadata": {},
   "outputs": [
    {
     "data": {
      "text/plain": "3"
     },
     "execution_count": 25,
     "metadata": {},
     "output_type": "execute_result"
    }
   ],
   "source": [
    "train_labels[10]"
   ]
  },
  {
   "cell_type": "markdown",
   "metadata": {},
   "source": [
    "### 4.13 编码输入数据 - 将数据向量化"
   ]
  },
  {
   "cell_type": "code",
   "execution_count": 26,
   "metadata": {},
   "outputs": [],
   "source": [
    "x_train = vectorize_sequences(train_data)\r\n",
    "x_test  = vectorize_sequences(test_data)"
   ]
  },
  {
   "cell_type": "markdown",
   "metadata": {},
   "source": [
    "### 4.14 编码标签\r\n",
    "### 标签向量化有两种方法：既可以将标签列表转换为一个整数张量，也可以使用 one-hot 编码。\r\n",
    "### one-hot编码也叫分类编码 `categorical encoding`"
   ]
  },
  {
   "cell_type": "code",
   "execution_count": 27,
   "metadata": {},
   "outputs": [],
   "source": [
    "def to_one_hot(labels, dimension=46):\r\n",
    "    results = np.zeros((len(labels), dimension))\r\n",
    "    for i, labels in enumerate(labels):\r\n",
    "        results[i, labels] = 1.\r\n",
    "    \r\n",
    "    return results\r\n",
    "\r\n",
    "# 将标签向量化\r\n",
    "y_train = to_one_hot(train_labels)\r\n",
    "y_test  = to_one_hot(test_labels)"
   ]
  },
  {
   "cell_type": "code",
   "execution_count": 28,
   "metadata": {},
   "outputs": [],
   "source": [
    "# keras有一个内置方法可以实现这种编码\r\n",
    "from tensorflow.keras.utils import to_categorical\r\n",
    "\r\n",
    "y_train = to_categorical(train_labels)\r\n",
    "y_test  = to_categorical(test_labels)"
   ]
  },
  {
   "cell_type": "markdown",
   "metadata": {},
   "source": [
    "### 4.15 模型定义"
   ]
  },
  {
   "cell_type": "code",
   "execution_count": 29,
   "metadata": {},
   "outputs": [],
   "source": [
    "model = keras.Sequential([\r\n",
    "    layers.Dense(64, activation='relu'),\r\n",
    "    layers.Dense(64, activation='relu'),\r\n",
    "    layers.Dense(46, activation='softmax')  # 输出一个在46个输出类别上的概率分布\r\n",
    "])"
   ]
  },
  {
   "cell_type": "markdown",
   "metadata": {},
   "source": [
    "### 4.16 编译模型"
   ]
  },
  {
   "cell_type": "code",
   "execution_count": 30,
   "metadata": {},
   "outputs": [],
   "source": [
    "model.compile(optimizer='rmsprop', loss='categorical_crossentropy', metrics=['accuracy'])"
   ]
  },
  {
   "cell_type": "markdown",
   "metadata": {},
   "source": [
    "### 4.17 留出验证集"
   ]
  },
  {
   "cell_type": "code",
   "execution_count": 31,
   "metadata": {},
   "outputs": [],
   "source": [
    "x_val = x_train[:1000]\r\n",
    "partial_x_train = x_train[1000:]\r\n",
    "y_val = y_train[:1000]\r\n",
    "partial_y_train = y_train[1000:]"
   ]
  },
  {
   "cell_type": "markdown",
   "metadata": {},
   "source": [
    "### 4.18 训练模型"
   ]
  },
  {
   "cell_type": "code",
   "execution_count": 32,
   "metadata": {},
   "outputs": [
    {
     "name": "stdout",
     "output_type": "stream",
     "text": [
      "Epoch 1/20\n",
      "16/16 [==============================] - 1s 27ms/step - loss: 2.6645 - accuracy: 0.4535 - val_loss: 1.8093 - val_accuracy: 0.6260\n",
      "Epoch 2/20\n",
      "16/16 [==============================] - 0s 21ms/step - loss: 1.5296 - accuracy: 0.6824 - val_loss: 1.3824 - val_accuracy: 0.6860\n",
      "Epoch 3/20\n",
      "16/16 [==============================] - 0s 18ms/step - loss: 1.1822 - accuracy: 0.7462 - val_loss: 1.2112 - val_accuracy: 0.7310\n",
      "Epoch 4/20\n",
      "16/16 [==============================] - 0s 22ms/step - loss: 0.9668 - accuracy: 0.7940 - val_loss: 1.0898 - val_accuracy: 0.7770\n",
      "Epoch 5/20\n",
      "16/16 [==============================] - 0s 17ms/step - loss: 0.8086 - accuracy: 0.8281 - val_loss: 1.0288 - val_accuracy: 0.7830\n",
      "Epoch 6/20\n",
      "16/16 [==============================] - 0s 16ms/step - loss: 0.6725 - accuracy: 0.8554 - val_loss: 0.9708 - val_accuracy: 0.7950\n",
      "Epoch 7/20\n",
      "16/16 [==============================] - 0s 17ms/step - loss: 0.5667 - accuracy: 0.8811 - val_loss: 0.9265 - val_accuracy: 0.8080\n",
      "Epoch 8/20\n",
      "16/16 [==============================] - 0s 16ms/step - loss: 0.4753 - accuracy: 0.9018 - val_loss: 0.9126 - val_accuracy: 0.7990\n",
      "Epoch 9/20\n",
      "16/16 [==============================] - 0s 18ms/step - loss: 0.4041 - accuracy: 0.9152 - val_loss: 0.9233 - val_accuracy: 0.7970\n",
      "Epoch 10/20\n",
      "16/16 [==============================] - 0s 17ms/step - loss: 0.3418 - accuracy: 0.9291 - val_loss: 0.8769 - val_accuracy: 0.8120\n",
      "Epoch 11/20\n",
      "16/16 [==============================] - 0s 16ms/step - loss: 0.2988 - accuracy: 0.9347 - val_loss: 0.8800 - val_accuracy: 0.8070\n",
      "Epoch 12/20\n",
      "16/16 [==============================] - 0s 26ms/step - loss: 0.2563 - accuracy: 0.9439 - val_loss: 0.8733 - val_accuracy: 0.8210\n",
      "Epoch 13/20\n",
      "16/16 [==============================] - 0s 17ms/step - loss: 0.2360 - accuracy: 0.9449 - val_loss: 0.9564 - val_accuracy: 0.7980\n",
      "Epoch 14/20\n",
      "16/16 [==============================] - 0s 17ms/step - loss: 0.2065 - accuracy: 0.9479 - val_loss: 0.8816 - val_accuracy: 0.8140\n",
      "Epoch 15/20\n",
      "16/16 [==============================] - 0s 23ms/step - loss: 0.1859 - accuracy: 0.9520 - val_loss: 0.9201 - val_accuracy: 0.8100\n",
      "Epoch 16/20\n",
      "16/16 [==============================] - 0s 16ms/step - loss: 0.1736 - accuracy: 0.9540 - val_loss: 0.9073 - val_accuracy: 0.8140\n",
      "Epoch 17/20\n",
      "16/16 [==============================] - 0s 17ms/step - loss: 0.1592 - accuracy: 0.9546 - val_loss: 0.9363 - val_accuracy: 0.8080\n",
      "Epoch 18/20\n",
      "16/16 [==============================] - 0s 16ms/step - loss: 0.1474 - accuracy: 0.9554 - val_loss: 0.9493 - val_accuracy: 0.8130\n",
      "Epoch 19/20\n",
      "16/16 [==============================] - 0s 24ms/step - loss: 0.1426 - accuracy: 0.9557 - val_loss: 0.9452 - val_accuracy: 0.8170\n",
      "Epoch 20/20\n",
      "16/16 [==============================] - 0s 16ms/step - loss: 0.1394 - accuracy: 0.9558 - val_loss: 0.9574 - val_accuracy: 0.8160\n"
     ]
    }
   ],
   "source": [
    "history = model.fit(partial_x_train,\r\n",
    "                    partial_y_train,\r\n",
    "                    epochs=20,\r\n",
    "                    batch_size=512,\r\n",
    "                    validation_data=(x_val, y_val))"
   ]
  },
  {
   "cell_type": "markdown",
   "metadata": {},
   "source": [
    "### 4.19 绘制训练损失和验证损失"
   ]
  },
  {
   "cell_type": "code",
   "execution_count": 33,
   "metadata": {},
   "outputs": [
    {
     "data": {
      "image/png": "[encoded data removed]",
      "text/plain": "<Figure size 640x480 with 1 Axes>"
     },
     "metadata": {},
     "output_type": "display_data"
    }
   ],
   "source": [
    "import matplotlib.pyplot as plt\r\n",
    "\r\n",
    "loss = history.history['loss']\r\n",
    "val_loss = history.history[\"val_loss\"]\r\n",
    "\r\n",
    "epochs = range(1, len(loss_values) + 1)\r\n",
    "\r\n",
    "plt.plot(epochs, loss,     \"ro\", label=\"Training loss\")\r\n",
    "plt.plot(epochs, val_loss, \"b\",  label=\"Validation loss\")\r\n",
    "\r\n",
    "plt.title(\"Training and Validation loss\")\r\n",
    "plt.xlabel(\"Epochs\")\r\n",
    "plt.ylabel(\"Loss\")\r\n",
    "plt.legend()\r\n",
    "plt.show()"
   ]
  },
  {
   "cell_type": "markdown",
   "metadata": {},
   "source": [
    "### 4.20 绘制训练精度和验证精度"
   ]
  },
  {
   "cell_type": "code",
   "execution_count": 34,
   "metadata": {},
   "outputs": [
    {
     "data": {
      "image/png": "[encoded data removed]",
      "text/plain": "<Figure size 640x480 with 1 Axes>"
     },
     "metadata": {},
     "output_type": "display_data"
    }
   ],
   "source": [
    "plt.clf()\r\n",
    "acc = history.history['accuracy']\r\n",
    "val_acc = history.history[\"val_accuracy\"]\r\n",
    "\r\n",
    "plt.plot(epochs, acc,     \"ro\", label=\"Training accuracy\")\r\n",
    "plt.plot(epochs, val_acc, \"b\",  label=\"Validation accuracy\")\r\n",
    "\r\n",
    "plt.title(\"Training and Validation loss\")\r\n",
    "plt.xlabel(\"Epochs\")\r\n",
    "plt.ylabel(\"Accuracy\")\r\n",
    "plt.legend()\r\n",
    "plt.show()"
   ]
  },
  {
   "cell_type": "markdown",
   "metadata": {},
   "source": [
    "### 4.21 从头开始训练一个模型"
   ]
  },
  {
   "cell_type": "code",
   "execution_count": 36,
   "metadata": {},
   "outputs": [
    {
     "name": "stdout",
     "output_type": "stream",
     "text": [
      "Epoch 1/9\n",
      "18/18 [==============================] - 1s 20ms/step - loss: 2.6244 - accuracy: 0.4955\n",
      "Epoch 2/9\n",
      "18/18 [==============================] - 0s 19ms/step - loss: 1.4520 - accuracy: 0.6888\n",
      "Epoch 3/9\n",
      "18/18 [==============================] - 0s 21ms/step - loss: 1.1154 - accuracy: 0.7600\n",
      "Epoch 4/9\n",
      "18/18 [==============================] - 0s 22ms/step - loss: 0.9173 - accuracy: 0.8016\n",
      "Epoch 5/9\n",
      "18/18 [==============================] - 0s 23ms/step - loss: 0.7634 - accuracy: 0.8359\n",
      "Epoch 6/9\n",
      "18/18 [==============================] - 0s 23ms/step - loss: 0.6394 - accuracy: 0.8627\n",
      "Epoch 7/9\n",
      "18/18 [==============================] - 0s 23ms/step - loss: 0.5333 - accuracy: 0.8855\n",
      "Epoch 8/9\n",
      "18/18 [==============================] - 0s 23ms/step - loss: 0.4531 - accuracy: 0.9031\n",
      "Epoch 9/9\n",
      "18/18 [==============================] - 0s 21ms/step - loss: 0.3828 - accuracy: 0.9159\n",
      "71/71 [==============================] - 0s 3ms/step - loss: 0.9063 - accuracy: 0.7921\n"
     ]
    }
   ],
   "source": [
    "model = keras.Sequential([\r\n",
    "    layers.Dense(64, activation='relu'),\r\n",
    "    layers.Dense(64, activation='relu'),\r\n",
    "    layers.Dense(46, activation='softmax')\r\n",
    "])\r\n",
    "\r\n",
    "model.compile(optimizer='rmsprop', loss='categorical_crossentropy', metrics=['accuracy'])\r\n",
    "\r\n",
    "model.fit(x_train, y_train, epochs=9, batch_size=512)\r\n",
    "\r\n",
    "results = model.evaluate(x_test, y_test)"
   ]
  },
  {
   "cell_type": "code",
   "execution_count": 37,
   "metadata": {},
   "outputs": [
    {
     "data": {
      "text/plain": "[0.906318724155426, 0.7920747995376587]"
     },
     "execution_count": 37,
     "metadata": {},
     "output_type": "execute_result"
    }
   ],
   "source": [
    "results"
   ]
  },
  {
   "cell_type": "code",
   "execution_count": 38,
   "metadata": {},
   "outputs": [
    {
     "data": {
      "text/plain": "0.19545859305431879"
     },
     "execution_count": 38,
     "metadata": {},
     "output_type": "execute_result"
    }
   ],
   "source": [
    "import copy\r\n",
    "\r\n",
    "test_labels_copy = copy.copy(test_labels)\r\n",
    "\r\n",
    "np.random.shuffle(test_labels_copy)\r\n",
    "\r\n",
    "hits_array = np.array(test_labels) == np.array(test_labels_copy)\r\n",
    "hits_array.mean()"
   ]
  },
  {
   "cell_type": "markdown",
   "metadata": {},
   "source": [
    "### 对新数据进行预测"
   ]
  },
  {
   "cell_type": "code",
   "execution_count": 41,
   "metadata": {},
   "outputs": [
    {
     "name": "stdout",
     "output_type": "stream",
     "text": [
      "71/71 [==============================] - 0s 2ms/step\n"
     ]
    },
    {
     "data": {
      "text/plain": "3"
     },
     "execution_count": 41,
     "metadata": {},
     "output_type": "execute_result"
    }
   ],
   "source": [
    "# 对所有测试数据生成预测\r\n",
    "predictions = model.predict(x_test)\r\n",
    "\r\n",
    "# 向量\r\n",
    "predictions[0].shape\r\n",
    "\r\n",
    "# 求和, 概率分布\r\n",
    "np.sum(predictions[0])\r\n",
    "\r\n",
    "#\r\n",
    "np.argmax(predictions[0])"
   ]
  },
  {
   "cell_type": "markdown",
   "metadata": {},
   "source": [
    "### 处理标签和损失的另一种方法"
   ]
  },
  {
   "cell_type": "code",
   "execution_count": 42,
   "metadata": {},
   "outputs": [],
   "source": [
    "y_train = np.array(train_labels)\r\n",
    "y_test  = np.array(test_labels)\r\n",
    "\r\n",
    "# sparse_categorical_crossentropy : 稀疏分类交叉熵\r\n",
    "model.compile(optimizer='rmsprop', loss='sparse_categorical_crossentropy', metrics=['accuracy'])"
   ]
  },
  {
   "cell_type": "markdown",
   "metadata": {},
   "source": [
    "### 4.22 具有信息瓶颈的模型"
   ]
  },
  {
   "cell_type": "code",
   "execution_count": 43,
   "metadata": {},
   "outputs": [
    {
     "name": "stdout",
     "output_type": "stream",
     "text": [
      "Epoch 1/20\n",
      "63/63 [==============================] - 1s 14ms/step - loss: 2.9229 - accuracy: 0.1825 - val_loss: 2.2337 - val_accuracy: 0.2780\n",
      "Epoch 2/20\n",
      "63/63 [==============================] - 1s 14ms/step - loss: 1.8257 - accuracy: 0.5804 - val_loss: 1.6221 - val_accuracy: 0.5990\n",
      "Epoch 3/20\n",
      "63/63 [==============================] - 1s 14ms/step - loss: 1.4207 - accuracy: 0.6243 - val_loss: 1.4471 - val_accuracy: 0.6280\n",
      "Epoch 4/20\n",
      "63/63 [==============================] - 1s 15ms/step - loss: 1.2320 - accuracy: 0.6681 - val_loss: 1.3639 - val_accuracy: 0.6780\n",
      "Epoch 5/20\n",
      "63/63 [==============================] - 1s 14ms/step - loss: 1.1007 - accuracy: 0.7140 - val_loss: 1.3670 - val_accuracy: 0.6730\n",
      "Epoch 6/20\n",
      "63/63 [==============================] - 1s 14ms/step - loss: 1.0048 - accuracy: 0.7330 - val_loss: 1.3293 - val_accuracy: 0.6920\n",
      "Epoch 7/20\n",
      "63/63 [==============================] - 1s 15ms/step - loss: 0.9248 - accuracy: 0.7536 - val_loss: 1.3146 - val_accuracy: 0.7030\n",
      "Epoch 8/20\n",
      "63/63 [==============================] - 1s 15ms/step - loss: 0.8562 - accuracy: 0.7686 - val_loss: 1.3211 - val_accuracy: 0.7010\n",
      "Epoch 9/20\n",
      "63/63 [==============================] - 1s 14ms/step - loss: 0.7962 - accuracy: 0.7839 - val_loss: 1.3387 - val_accuracy: 0.7070\n",
      "Epoch 10/20\n",
      "63/63 [==============================] - 1s 14ms/step - loss: 0.7436 - accuracy: 0.7967 - val_loss: 1.3598 - val_accuracy: 0.7080\n",
      "Epoch 11/20\n",
      "63/63 [==============================] - 1s 14ms/step - loss: 0.6952 - accuracy: 0.8072 - val_loss: 1.3872 - val_accuracy: 0.7090\n",
      "Epoch 12/20\n",
      "63/63 [==============================] - 1s 15ms/step - loss: 0.6503 - accuracy: 0.8208 - val_loss: 1.3943 - val_accuracy: 0.7200\n",
      "Epoch 13/20\n",
      "63/63 [==============================] - 1s 14ms/step - loss: 0.6160 - accuracy: 0.8299 - val_loss: 1.4277 - val_accuracy: 0.7110\n",
      "Epoch 14/20\n",
      "63/63 [==============================] - 1s 12ms/step - loss: 0.5777 - accuracy: 0.8376 - val_loss: 1.4888 - val_accuracy: 0.7170\n",
      "Epoch 15/20\n",
      "63/63 [==============================] - 1s 12ms/step - loss: 0.5455 - accuracy: 0.8514 - val_loss: 1.5310 - val_accuracy: 0.7160\n",
      "Epoch 16/20\n",
      "63/63 [==============================] - 1s 11ms/step - loss: 0.5148 - accuracy: 0.8611 - val_loss: 1.5419 - val_accuracy: 0.7080\n",
      "Epoch 17/20\n",
      "63/63 [==============================] - 1s 11ms/step - loss: 0.4898 - accuracy: 0.8685 - val_loss: 1.5702 - val_accuracy: 0.7140\n",
      "Epoch 18/20\n",
      "63/63 [==============================] - 1s 12ms/step - loss: 0.4650 - accuracy: 0.8763 - val_loss: 1.5964 - val_accuracy: 0.7190\n",
      "Epoch 19/20\n",
      "63/63 [==============================] - 1s 10ms/step - loss: 0.4447 - accuracy: 0.8809 - val_loss: 1.6721 - val_accuracy: 0.7140\n",
      "Epoch 20/20\n",
      "63/63 [==============================] - 1s 11ms/step - loss: 0.4273 - accuracy: 0.8862 - val_loss: 1.7000 - val_accuracy: 0.7180\n"
     ]
    },
    {
     "data": {
      "text/plain": "<keras.callbacks.History at 0x22a85828310>"
     },
     "execution_count": 43,
     "metadata": {},
     "output_type": "execute_result"
    }
   ],
   "source": [
    "model = keras.Sequential([\r\n",
    "    layers.Dense(64, activation='relu'),\r\n",
    "    layers.Dense(4,  activation='relu'),    # ?? 信息瓶颈\r\n",
    "    layers.Dense(46, activation='softmax')\r\n",
    "])\r\n",
    "\r\n",
    "model.compile(optimizer='rmsprop', loss='categorical_crossentropy', metrics=['accuracy'])\r\n",
    "\r\n",
    "model.fit(partial_x_train, partial_y_train, epochs=20, batch_size=128, validation_data=(x_val, y_val))\r\n"
   ]
  },
  {
   "cell_type": "markdown",
   "metadata": {},
   "source": [
    "## 4.3 标量归问题示例"
   ]
  },
  {
   "cell_type": "markdown",
   "metadata": {},
   "source": [
    "### 4.23 加载波士顿房价数据集"
   ]
  },
  {
   "cell_type": "code",
   "execution_count": 48,
   "metadata": {},
   "outputs": [],
   "source": [
    "from tensorflow.keras.datasets import boston_housing\r\n",
    "\r\n",
    "(train_data, train_targets), (test_data, test_targets) = (boston_housing.load_data())"
   ]
  },
  {
   "cell_type": "code",
   "execution_count": 45,
   "metadata": {},
   "outputs": [
    {
     "data": {
      "text/plain": "(404, 13)"
     },
     "execution_count": 45,
     "metadata": {},
     "output_type": "execute_result"
    }
   ],
   "source": [
    "train_data.shape"
   ]
  },
  {
   "cell_type": "code",
   "execution_count": 46,
   "metadata": {},
   "outputs": [
    {
     "data": {
      "text/plain": "(102, 13)"
     },
     "execution_count": 46,
     "metadata": {},
     "output_type": "execute_result"
    }
   ],
   "source": [
    "test_data.shape"
   ]
  },
  {
   "cell_type": "code",
   "execution_count": 47,
   "metadata": {},
   "outputs": [
    {
     "data": {
      "text/plain": "array([15.2, 42.3, 50. , 21.1, 17.7, 18.5, 11.3, 15.6, 15.6, 14.4, 12.1,\n       17.9, 23.1, 19.9, 15.7,  8.8, 50. , 22.5, 24.1, 27.5, 10.9, 30.8,\n       32.9, 24. , 18.5, 13.3, 22.9, 34.7, 16.6, 17.5, 22.3, 16.1, 14.9,\n       23.1, 34.9, 25. , 13.9, 13.1, 20.4, 20. , 15.2, 24.7, 22.2, 16.7,\n       12.7, 15.6, 18.4, 21. , 30.1, 15.1, 18.7,  9.6, 31.5, 24.8, 19.1,\n       22. , 14.5, 11. , 32. , 29.4, 20.3, 24.4, 14.6, 19.5, 14.1, 14.3,\n       15.6, 10.5,  6.3, 19.3, 19.3, 13.4, 36.4, 17.8, 13.5, 16.5,  8.3,\n       14.3, 16. , 13.4, 28.6, 43.5, 20.2, 22. , 23. , 20.7, 12.5, 48.5,\n       14.6, 13.4, 23.7, 50. , 21.7, 39.8, 38.7, 22.2, 34.9, 22.5, 31.1,\n       28.7, 46. , 41.7, 21. , 26.6, 15. , 24.4, 13.3, 21.2, 11.7, 21.7,\n       19.4, 50. , 22.8, 19.7, 24.7, 36.2, 14.2, 18.9, 18.3, 20.6, 24.6,\n       18.2,  8.7, 44. , 10.4, 13.2, 21.2, 37. , 30.7, 22.9, 20. , 19.3,\n       31.7, 32. , 23.1, 18.8, 10.9, 50. , 19.6,  5. , 14.4, 19.8, 13.8,\n       19.6, 23.9, 24.5, 25. , 19.9, 17.2, 24.6, 13.5, 26.6, 21.4, 11.9,\n       22.6, 19.6,  8.5, 23.7, 23.1, 22.4, 20.5, 23.6, 18.4, 35.2, 23.1,\n       27.9, 20.6, 23.7, 28. , 13.6, 27.1, 23.6, 20.6, 18.2, 21.7, 17.1,\n        8.4, 25.3, 13.8, 22.2, 18.4, 20.7, 31.6, 30.5, 20.3,  8.8, 19.2,\n       19.4, 23.1, 23. , 14.8, 48.8, 22.6, 33.4, 21.1, 13.6, 32.2, 13.1,\n       23.4, 18.9, 23.9, 11.8, 23.3, 22.8, 19.6, 16.7, 13.4, 22.2, 20.4,\n       21.8, 26.4, 14.9, 24.1, 23.8, 12.3, 29.1, 21. , 19.5, 23.3, 23.8,\n       17.8, 11.5, 21.7, 19.9, 25. , 33.4, 28.5, 21.4, 24.3, 27.5, 33.1,\n       16.2, 23.3, 48.3, 22.9, 22.8, 13.1, 12.7, 22.6, 15. , 15.3, 10.5,\n       24. , 18.5, 21.7, 19.5, 33.2, 23.2,  5. , 19.1, 12.7, 22.3, 10.2,\n       13.9, 16.3, 17. , 20.1, 29.9, 17.2, 37.3, 45.4, 17.8, 23.2, 29. ,\n       22. , 18. , 17.4, 34.6, 20.1, 25. , 15.6, 24.8, 28.2, 21.2, 21.4,\n       23.8, 31. , 26.2, 17.4, 37.9, 17.5, 20. ,  8.3, 23.9,  8.4, 13.8,\n        7.2, 11.7, 17.1, 21.6, 50. , 16.1, 20.4, 20.6, 21.4, 20.6, 36.5,\n        8.5, 24.8, 10.8, 21.9, 17.3, 18.9, 36.2, 14.9, 18.2, 33.3, 21.8,\n       19.7, 31.6, 24.8, 19.4, 22.8,  7.5, 44.8, 16.8, 18.7, 50. , 50. ,\n       19.5, 20.1, 50. , 17.2, 20.8, 19.3, 41.3, 20.4, 20.5, 13.8, 16.5,\n       23.9, 20.6, 31.5, 23.3, 16.8, 14. , 33.8, 36.1, 12.8, 18.3, 18.7,\n       19.1, 29. , 30.1, 50. , 50. , 22. , 11.9, 37.6, 50. , 22.7, 20.8,\n       23.5, 27.9, 50. , 19.3, 23.9, 22.6, 15.2, 21.7, 19.2, 43.8, 20.3,\n       33.2, 19.9, 22.5, 32.7, 22. , 17.1, 19. , 15. , 16.1, 25.1, 23.7,\n       28.7, 37.2, 22.6, 16.4, 25. , 29.8, 22.1, 17.4, 18.1, 30.3, 17.5,\n       24.7, 12.6, 26.5, 28.7, 13.3, 10.4, 24.4, 23. , 20. , 17.8,  7. ,\n       11.8, 24.4, 13.8, 19.4, 25.2, 19.4, 19.4, 29.1])"
     },
     "execution_count": 47,
     "metadata": {},
     "output_type": "execute_result"
    }
   ],
   "source": [
    "train_targets"
   ]
  },
  {
   "cell_type": "markdown",
   "metadata": {},
   "source": [
    "### 4.24 数据标准化"
   ]
  },
  {
   "cell_type": "code",
   "execution_count": 49,
   "metadata": {},
   "outputs": [],
   "source": [
    "mean = train_data.mean(axis=0)\r\n",
    "\r\n",
    "train_data -= mean\r\n",
    "std = train_data.std(axis=0)\r\n",
    "train_data /= std\r\n",
    "test_data  -= mean\r\n",
    "test_data  /= std"
   ]
  },
  {
   "cell_type": "markdown",
   "metadata": {},
   "source": [
    "### 4.25 模型定义"
   ]
  },
  {
   "cell_type": "code",
   "execution_count": 51,
   "metadata": {},
   "outputs": [],
   "source": [
    "def build_model():\r\n",
    "    model = keras.Sequential([\r\n",
    "        layers.Dense(64, activation='relu'),\r\n",
    "        layers.Dense(64, activation='relu'),\r\n",
    "        layers.Dense(1)\r\n",
    "    ])\r\n",
    "\r\n",
    "    # mse : 损失函数, 均方误差(mean squared error)\r\n",
    "    # mae : 监控指标, 平均绝对误差(mean absolute error)\r\n",
    "    # 如果MAE等于0.5, 就表示预测房价与实际价格平均相差500美元\r\n",
    "    model.compile(optimizer='rmsprop', loss='mse', metrics=['mae'])\r\n",
    "\r\n",
    "    return model"
   ]
  },
  {
   "cell_type": "markdown",
   "metadata": {},
   "source": [
    "### 4.26 利用κ折交叉验证来验证"
   ]
  },
  {
   "cell_type": "code",
   "execution_count": 54,
   "metadata": {},
   "outputs": [
    {
     "name": "stdout",
     "output_type": "stream",
     "text": [
      "Processing fold #0\n",
      "Processing fold #1\n",
      "Processing fold #2\n",
      "Processing fold #3\n"
     ]
    }
   ],
   "source": [
    "# 将数据划分为 K 个分区\r\n",
    "k = 4\r\n",
    "num_val_samples = len(train_data) // k\r\n",
    "num_epochs = 100\r\n",
    "all_scores = []\r\n",
    "\r\n",
    "for i in range(k):\r\n",
    "    print(f\"Processing fold #{i}\")\r\n",
    "\r\n",
    "    # 准备验证数据:第k个分区的数据\r\n",
    "    val_data    = train_data[i * num_val_samples:(i + 1) * num_val_samples]\r\n",
    "    val_targets = train_targets[i * num_val_samples:(i + 1) * num_val_samples]\r\n",
    "\r\n",
    "    # 准备训练数据:其余所有分区的数据\r\n",
    "    partial_train_data = np.concatenate([\r\n",
    "        train_data[:i * num_val_samples],\r\n",
    "        train_data[(i + 1) * num_val_samples:]\r\n",
    "    ], axis=0)\r\n",
    "    partial_train_targets = np.concatenate([\r\n",
    "        train_targets[:i * num_val_samples],\r\n",
    "        train_targets[(i + 1) * num_val_samples:]\r\n",
    "    ], axis=0)\r\n",
    "\r\n",
    "    model = build_model()\r\n",
    "    model.fit(partial_train_data, partial_train_targets, epochs=num_epochs, batch_size=16, verbose=0)\r\n",
    "\r\n",
    "    # 验证数据上评估模型\r\n",
    "    val_mse, val_mae = model.evaluate(val_data, val_targets, verbose=0)\r\n",
    "    all_scores.append(val_mae)"
   ]
  },
  {
   "cell_type": "code",
   "execution_count": 55,
   "metadata": {},
   "outputs": [
    {
     "data": {
      "text/plain": "[2.0773367881774902, 2.44350528717041, 2.472440481185913, 2.5285441875457764]"
     },
     "execution_count": 55,
     "metadata": {},
     "output_type": "execute_result"
    }
   ],
   "source": [
    "all_scores"
   ]
  },
  {
   "cell_type": "code",
   "execution_count": 56,
   "metadata": {},
   "outputs": [
    {
     "data": {
      "text/plain": "2.3804566860198975"
     },
     "execution_count": 56,
     "metadata": {},
     "output_type": "execute_result"
    }
   ],
   "source": [
    "np.mean(all_scores)"
   ]
  },
  {
   "cell_type": "markdown",
   "metadata": {},
   "source": [
    "### 4.27 保持每折的验证分数"
   ]
  },
  {
   "cell_type": "code",
   "execution_count": 59,
   "metadata": {},
   "outputs": [
    {
     "name": "stdout",
     "output_type": "stream",
     "text": [
      "Processing fold #0\n",
      "Processing fold #1\n",
      "Processing fold #2\n",
      "Processing fold #3\n"
     ]
    }
   ],
   "source": [
    "num_epochs = 500\r\n",
    "all_mae_histories = []\r\n",
    "\r\n",
    "for i in range(k):\r\n",
    "    print(f\"Processing fold #{i}\")\r\n",
    "\r\n",
    "    # 准备验证数据:第k个分区的数据\r\n",
    "    val_data    = train_data[i * num_val_samples:(i + 1) * num_val_samples]\r\n",
    "    val_targets = train_targets[i * num_val_samples:(i + 1) * num_val_samples]\r\n",
    "\r\n",
    "    # 准备训练数据:其余所有分区的数据\r\n",
    "    partial_train_data = np.concatenate([\r\n",
    "        train_data[:i * num_val_samples],\r\n",
    "        train_data[(i + 1) * num_val_samples:]\r\n",
    "    ], axis=0)\r\n",
    "    partial_train_targets = np.concatenate([\r\n",
    "        train_targets[:i * num_val_samples],\r\n",
    "        train_targets[(i + 1) * num_val_samples:]\r\n",
    "    ], axis=0)\r\n",
    "\r\n",
    "    model = build_model()\r\n",
    "    history = model.fit(partial_train_data, partial_train_targets, \r\n",
    "                        validation_data=(val_data, val_targets),\r\n",
    "                        epochs=num_epochs, batch_size=16, verbose=0)\r\n",
    "\r\n",
    "    mae_history = history.history['val_mae']\r\n",
    "    all_mae_histories.append(mae_history)"
   ]
  },
  {
   "cell_type": "markdown",
   "metadata": {},
   "source": [
    "### 4.28 计算每轮的κ折验证分数平均值"
   ]
  },
  {
   "cell_type": "code",
   "execution_count": 61,
   "metadata": {},
   "outputs": [],
   "source": [
    "average_mae_history = [np.mean([x[i] for x in all_mae_histories]) for i in range(num_epochs)]"
   ]
  },
  {
   "cell_type": "markdown",
   "metadata": {},
   "source": [
    "### 4.29 绘制验证MAE曲线"
   ]
  },
  {
   "cell_type": "code",
   "execution_count": 62,
   "metadata": {},
   "outputs": [
    {
     "data": {
      "image/png": "[encoded data removed]",
      "text/plain": "<Figure size 640x480 with 1 Axes>"
     },
     "metadata": {},
     "output_type": "display_data"
    }
   ],
   "source": [
    "plt.plot(range(1, len(average_mae_history) + 1), average_mae_history)\r\n",
    "plt.xlabel('Epochs')\r\n",
    "plt.ylabel('Validation MAE')\r\n",
    "plt.show()"
   ]
  },
  {
   "cell_type": "markdown",
   "metadata": {},
   "source": [
    "### 4.30 绘制验证MAE曲线（剔除前10个数据点）"
   ]
  },
  {
   "cell_type": "code",
   "execution_count": 63,
   "metadata": {},
   "outputs": [
    {
     "data": {
      "image/png": "[encoded data removed]",
      "text/plain": "<Figure size 640x480 with 1 Axes>"
     },
     "metadata": {},
     "output_type": "display_data"
    }
   ],
   "source": [
    "truncated_mae_history = average_mae_history[10:]\r\n",
    "plt.plot(range(1, len(truncated_mae_history) + 1), truncated_mae_history)\r\n",
    "plt.xlabel('Epochs')\r\n",
    "plt.ylabel('Validation MAE')\r\n",
    "plt.show()"
   ]
  },
  {
   "cell_type": "markdown",
   "metadata": {},
   "source": [
    "### 4.31 训练最终模型"
   ]
  },
  {
   "cell_type": "code",
   "execution_count": 64,
   "metadata": {},
   "outputs": [
    {
     "name": "stdout",
     "output_type": "stream",
     "text": [
      "4/4 [==============================] - 0s 2ms/step - loss: 12.8628 - mae: 2.3716\n"
     ]
    }
   ],
   "source": [
    "model = build_model()\r\n",
    "model.fit(train_data, train_targets, epochs=130, batch_size=16, verbose=0)\r\n",
    "\r\n",
    "test_mse_score, test_mae_score = model.evaluate(test_data, test_targets)"
   ]
  },
  {
   "cell_type": "code",
   "execution_count": 65,
   "metadata": {},
   "outputs": [
    {
     "data": {
      "text/plain": "2.3715975284576416"
     },
     "execution_count": 65,
     "metadata": {},
     "output_type": "execute_result"
    }
   ],
   "source": [
    "test_mae_score"
   ]
  },
  {
   "cell_type": "code",
   "execution_count": 75,
   "metadata": {},
   "outputs": [
    {
     "name": "stdout",
     "output_type": "stream",
     "text": [
      "4/4 [==============================] - 0s 1ms/step\n"
     ]
    },
    {
     "data": {
      "text/plain": "array([8.261114], dtype=float32)"
     },
     "execution_count": 75,
     "metadata": {},
     "output_type": "execute_result"
    }
   ],
   "source": [
    "predictions = model.predict(test_data)\r\n",
    "predictions[0]"
   ]
  }
 ],
 "metadata": {
  "kernelspec": {
   "display_name": "Python 3.11.3 64-bit",
   "name": "python3113jvsc74a57bd0e842fc153c48e5d72fdba74c5fa9ec255a93a35200f85dc4905f2030a563e165"
  },
  "language_info": {
   "codemirror_mode": {
    "name": "ipython",
    "version": 3
   },
   "file_extension": ".py",
   "mimetype": "text/x-python",
   "name": "python",
   "nbconvert_exporter": "python",
   "pygments_lexer": "ipython3",
   "version": "3.11.3"
  },
  "metadata": {
   "interpreter": {
    "hash": "e842fc153c48e5d72fdba74c5fa9ec255a93a35200f85dc4905f2030a563e165"
   }
  },
  "orig_nbformat": 2
 },
 "nbformat": 4,
 "nbformat_minor": 2
}